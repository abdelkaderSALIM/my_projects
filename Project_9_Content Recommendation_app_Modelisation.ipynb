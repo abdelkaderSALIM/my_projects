{
 "cells": [
  {
   "cell_type": "markdown",
   "metadata": {},
   "source": [
    "# <font color=#214B99>Projet 9 - Réalisez une application de recommandation de contenu</font>"
   ]
  },
  {
   "cell_type": "markdown",
   "metadata": {},
   "source": [
    "># <font color=#9E025C> Partie 2 : Modélisation et évaluation</font>"
   ]
  },
  {
   "cell_type": "markdown",
   "metadata": {},
   "source": [
    "<img src=\"https://user.oc-static.com/upload/2019/10/24/15719078448088_Capture%20d%E2%80%99e%CC%81cran%202019-10-24%20a%CC%80%2010.50.32.png\" alt=\"Logo My Content\">"
   ]
  },
  {
   "cell_type": "markdown",
   "metadata": {},
   "source": [
    "## <font color=#009BFA> Plan :</font>\n",
    "- **Partie 1 : Analyse et préparation des données**\n",
    "- **Partie 2 : Modélisation et évaluation**  \n",
    ">1. [**Chargement des bibliothèques**](#section_1)\n",
    ">2. [**Chargement du jeu de données**](#section_2)\n",
    ">3. [**Content-Based Filtering**](#section_3)\n",
    ">4. [**Collaborative-based Filtering**](#section_4)\n",
    ">5. [**Conclusion**](#section_5)\n",
    ">6. [**Sauvegarde dans Azure**](#section_6)"
   ]
  },
  {
   "cell_type": "markdown",
   "metadata": {},
   "source": [
    "## <font color=#650093 >Introduction </font>\n",
    "Les systèmes de recommandation peuvent être définis de plusieurs façons, vue la diversité des classifications proposées pour ces systèmes qui peuvent se rapporter à différents types de données ou approches spécifiques, mais il existe une définition générale de Robin Burke`[1]` qui correspond à notre cas d'étude :</br>\n",
    "**Des systèmes capables de fournir des recommandations personnalisées permettant de guider l’utilisateur vers des ressources intéressantes et utiles au sein d’un espace de données important**.<br> \n",
    "\n",
    "L'utilisateur voit ainsi son temps de recherche réduit. L’essor du Web et sa popularité ont notamment contribué à la mise en place de tels systèmes comme dans le domaine du e-commerce.<br>\n",
    "Les applications de recommandation peuvent être trouvé dans une grande variété d’industries,\n",
    "entreprises, service financier, musique / radio en ligne, TV et vidéos, les publications en ligne,\n",
    "et d’innombrables autres.<br>\n",
    "Les approches classiques des systèmes de recommandation sont :\n",
    "- le filtrage collaboratif : utilise les similarités entre les utilisateurs, \n",
    "- le filtrage basé sur le contenu : utilise les informations liées aux caractéristiques des produits. \n",
    "- l'approche hybride : elle résulte de la combinaison des deux approches précédentes et dont le but est de tirer profit des atouts de chacune. [Article ici](https://hal.inria.fr/hal-03591997v2/document)\n",
    "\n",
    "L’une des tâches les plus populaires dans le domaine des systèmes de recommandation est la recommandation top-N. Dans ce cas, le système propose une liste ordonnée de N produits les plus probables d’avoir l’attention de l’utilisateur. Dans notre cas les produits sont des articles et la valeur de N est égale à 5.\n",
    "\n",
    "`[1]`: <span style='color:#565A55'> Burke, R. Hybrid recommender systems: Survey and experiments. User Modeling and User-Adapted Interaction, 12(4) :331–370, 2002.</span>"
   ]
  },
  {
   "cell_type": "markdown",
   "metadata": {},
   "source": [
    "**Définition:** Le démarrage à froid (cold-start problem) est rencontré lorsque les recommandations sont nécessaires pour des éléments ou des utilisateurs pour lesquels nous n’avons aucune information explicite ou implicite. Il y a donc deux problèmes liés au démarrage à froid : nouvel utilisateur et nouvel élément."
   ]
  },
  {
   "cell_type": "markdown",
   "metadata": {},
   "source": [
    "# <span style='color:#DC6000 ' id=\"section_1\" >1. Chargement des bibliothèques</span>"
   ]
  },
  {
   "cell_type": "code",
   "execution_count": 2,
   "metadata": {},
   "outputs": [],
   "source": [
    "import os\n",
    "import logging\n",
    "import random\n",
    "from datetime import datetime\n",
    "from pathlib import Path\n",
    "import pickle\n",
    "import numpy as np\n",
    "import pandas as pd\n",
    "import plotly.express as px\n",
    "import matplotlib as plt\n",
    "from pandas.api.types import is_numeric_dtype\n",
    "from sklearn.decomposition import PCA\n",
    "from sklearn.manifold import TSNE\n",
    "from sklearn.metrics.pairwise import cosine_similarity, linear_kernel\n",
    "from sklearn.preprocessing import StandardScaler\n",
    "from tqdm import tqdm\n",
    "import implicit\n",
    "from implicit.evaluation import precision_at_k, train_test_split, ranking_metrics_at_k, mean_average_precision_at_k\n",
    "from scipy import sparse\n",
    "from scipy.sparse import csr_matrix\n",
    "pd.options.plotting.backend = 'matplotlib' #\"plotly\""
   ]
  },
  {
   "cell_type": "code",
   "execution_count": 3,
   "metadata": {},
   "outputs": [],
   "source": [
    "import warnings\n",
    "warnings.filterwarnings('ignore')"
   ]
  },
  {
   "cell_type": "markdown",
   "metadata": {},
   "source": [
    "# <span style='color:#DC6000 ' id=\"section_2\" >2. Chargement du jeu de données</span>"
   ]
  },
  {
   "cell_type": "code",
   "execution_count": 4,
   "metadata": {},
   "outputs": [],
   "source": [
    "DATA_PATH = \"../../00_P9_dataset/news-portal-user-interactions-by-globocom\""
   ]
  },
  {
   "cell_type": "markdown",
   "metadata": {},
   "source": [
    ">## <font color=#1800C8 >Chargement des fichiers `clicks`</font>"
   ]
  },
  {
   "cell_type": "code",
   "execution_count": 5,
   "metadata": {},
   "outputs": [],
   "source": [
    "if not os.path.exists('clicks.csv'):\n",
    "    clicks_path = []\n",
    "    clicks_dir = \"../../00_P9_dataset/news-portal-user-interactions-by-globocom/clicks\"\n",
    "\n",
    "    clicks_path = clicks_path + sorted(\n",
    "            [\n",
    "                os.path.join(clicks_dir, fname)\n",
    "                for fname in os.listdir(clicks_dir)\n",
    "                if fname.endswith(\".csv\")\n",
    "            ]\n",
    "        )\n",
    "    print(\"Nombre de fichiers clicks csv:\", len(clicks_path))\n",
    "\n",
    "    list_clicks_df = []\n",
    "\n",
    "    for filename in clicks_path:\n",
    "        df = pd.read_csv(filename, index_col=None, header=0)\n",
    "        list_clicks_df.append(df)\n",
    "\n",
    "    df_clicks = pd.concat(list_clicks_df, axis=0, ignore_index=True)\n",
    "    df_clicks.to_csv('clicks.csv', index=False)\n",
    "else:\n",
    "    df_clicks = pd.read_csv('clicks.csv')"
   ]
  },
  {
   "cell_type": "code",
   "execution_count": 6,
   "metadata": {},
   "outputs": [
    {
     "name": "stdout",
     "output_type": "stream",
     "text": [
      "<class 'pandas.core.frame.DataFrame'>\n",
      "RangeIndex: 2988181 entries, 0 to 2988180\n",
      "Data columns (total 12 columns):\n",
      " #   Column               Dtype\n",
      "---  ------               -----\n",
      " 0   user_id              int64\n",
      " 1   session_id           int64\n",
      " 2   session_start        int64\n",
      " 3   session_size         int64\n",
      " 4   click_article_id     int64\n",
      " 5   click_timestamp      int64\n",
      " 6   click_environment    int64\n",
      " 7   click_deviceGroup    int64\n",
      " 8   click_os             int64\n",
      " 9   click_country        int64\n",
      " 10  click_region         int64\n",
      " 11  click_referrer_type  int64\n",
      "dtypes: int64(12)\n",
      "memory usage: 273.6 MB\n"
     ]
    }
   ],
   "source": [
    "df_clicks.info()"
   ]
  },
  {
   "cell_type": "code",
   "execution_count": 7,
   "metadata": {},
   "outputs": [
    {
     "data": {
      "text/html": [
       "<div>\n",
       "<style scoped>\n",
       "    .dataframe tbody tr th:only-of-type {\n",
       "        vertical-align: middle;\n",
       "    }\n",
       "\n",
       "    .dataframe tbody tr th {\n",
       "        vertical-align: top;\n",
       "    }\n",
       "\n",
       "    .dataframe thead th {\n",
       "        text-align: right;\n",
       "    }\n",
       "</style>\n",
       "<table border=\"1\" class=\"dataframe\">\n",
       "  <thead>\n",
       "    <tr style=\"text-align: right;\">\n",
       "      <th></th>\n",
       "      <th>user_id</th>\n",
       "      <th>session_id</th>\n",
       "      <th>session_start</th>\n",
       "      <th>session_size</th>\n",
       "      <th>click_article_id</th>\n",
       "      <th>click_timestamp</th>\n",
       "      <th>click_environment</th>\n",
       "      <th>click_deviceGroup</th>\n",
       "      <th>click_os</th>\n",
       "      <th>click_country</th>\n",
       "      <th>click_region</th>\n",
       "      <th>click_referrer_type</th>\n",
       "    </tr>\n",
       "  </thead>\n",
       "  <tbody>\n",
       "    <tr>\n",
       "      <th>0</th>\n",
       "      <td>0</td>\n",
       "      <td>1506825423271737</td>\n",
       "      <td>1506825423000</td>\n",
       "      <td>2</td>\n",
       "      <td>157541</td>\n",
       "      <td>1506826828020</td>\n",
       "      <td>4</td>\n",
       "      <td>3</td>\n",
       "      <td>20</td>\n",
       "      <td>1</td>\n",
       "      <td>20</td>\n",
       "      <td>2</td>\n",
       "    </tr>\n",
       "    <tr>\n",
       "      <th>1</th>\n",
       "      <td>0</td>\n",
       "      <td>1506825423271737</td>\n",
       "      <td>1506825423000</td>\n",
       "      <td>2</td>\n",
       "      <td>68866</td>\n",
       "      <td>1506826858020</td>\n",
       "      <td>4</td>\n",
       "      <td>3</td>\n",
       "      <td>20</td>\n",
       "      <td>1</td>\n",
       "      <td>20</td>\n",
       "      <td>2</td>\n",
       "    </tr>\n",
       "    <tr>\n",
       "      <th>2</th>\n",
       "      <td>1</td>\n",
       "      <td>1506825426267738</td>\n",
       "      <td>1506825426000</td>\n",
       "      <td>2</td>\n",
       "      <td>235840</td>\n",
       "      <td>1506827017951</td>\n",
       "      <td>4</td>\n",
       "      <td>1</td>\n",
       "      <td>17</td>\n",
       "      <td>1</td>\n",
       "      <td>16</td>\n",
       "      <td>2</td>\n",
       "    </tr>\n",
       "    <tr>\n",
       "      <th>3</th>\n",
       "      <td>1</td>\n",
       "      <td>1506825426267738</td>\n",
       "      <td>1506825426000</td>\n",
       "      <td>2</td>\n",
       "      <td>96663</td>\n",
       "      <td>1506827047951</td>\n",
       "      <td>4</td>\n",
       "      <td>1</td>\n",
       "      <td>17</td>\n",
       "      <td>1</td>\n",
       "      <td>16</td>\n",
       "      <td>2</td>\n",
       "    </tr>\n",
       "    <tr>\n",
       "      <th>4</th>\n",
       "      <td>2</td>\n",
       "      <td>1506825435299739</td>\n",
       "      <td>1506825435000</td>\n",
       "      <td>2</td>\n",
       "      <td>119592</td>\n",
       "      <td>1506827090575</td>\n",
       "      <td>4</td>\n",
       "      <td>1</td>\n",
       "      <td>17</td>\n",
       "      <td>1</td>\n",
       "      <td>24</td>\n",
       "      <td>2</td>\n",
       "    </tr>\n",
       "  </tbody>\n",
       "</table>\n",
       "</div>"
      ],
      "text/plain": [
       "   user_id        session_id  session_start  session_size  click_article_id  \\\n",
       "0        0  1506825423271737  1506825423000             2            157541   \n",
       "1        0  1506825423271737  1506825423000             2             68866   \n",
       "2        1  1506825426267738  1506825426000             2            235840   \n",
       "3        1  1506825426267738  1506825426000             2             96663   \n",
       "4        2  1506825435299739  1506825435000             2            119592   \n",
       "\n",
       "   click_timestamp  click_environment  click_deviceGroup  click_os  \\\n",
       "0    1506826828020                  4                  3        20   \n",
       "1    1506826858020                  4                  3        20   \n",
       "2    1506827017951                  4                  1        17   \n",
       "3    1506827047951                  4                  1        17   \n",
       "4    1506827090575                  4                  1        17   \n",
       "\n",
       "   click_country  click_region  click_referrer_type  \n",
       "0              1            20                    2  \n",
       "1              1            20                    2  \n",
       "2              1            16                    2  \n",
       "3              1            16                    2  \n",
       "4              1            24                    2  "
      ]
     },
     "execution_count": 7,
     "metadata": {},
     "output_type": "execute_result"
    }
   ],
   "source": [
    "df_clicks.head()"
   ]
  },
  {
   "cell_type": "code",
   "execution_count": 8,
   "metadata": {},
   "outputs": [
    {
     "data": {
      "text/html": [
       "<div>\n",
       "<style scoped>\n",
       "    .dataframe tbody tr th:only-of-type {\n",
       "        vertical-align: middle;\n",
       "    }\n",
       "\n",
       "    .dataframe tbody tr th {\n",
       "        vertical-align: top;\n",
       "    }\n",
       "\n",
       "    .dataframe thead th {\n",
       "        text-align: right;\n",
       "    }\n",
       "</style>\n",
       "<table border=\"1\" class=\"dataframe\">\n",
       "  <thead>\n",
       "    <tr style=\"text-align: right;\">\n",
       "      <th></th>\n",
       "      <th>user_id</th>\n",
       "      <th>session_id</th>\n",
       "      <th>session_size</th>\n",
       "      <th>click_article_id</th>\n",
       "    </tr>\n",
       "  </thead>\n",
       "  <tbody>\n",
       "    <tr>\n",
       "      <th>0</th>\n",
       "      <td>0</td>\n",
       "      <td>1506825423271737</td>\n",
       "      <td>2</td>\n",
       "      <td>157541</td>\n",
       "    </tr>\n",
       "    <tr>\n",
       "      <th>1</th>\n",
       "      <td>0</td>\n",
       "      <td>1506825423271737</td>\n",
       "      <td>2</td>\n",
       "      <td>68866</td>\n",
       "    </tr>\n",
       "    <tr>\n",
       "      <th>2</th>\n",
       "      <td>1</td>\n",
       "      <td>1506825426267738</td>\n",
       "      <td>2</td>\n",
       "      <td>235840</td>\n",
       "    </tr>\n",
       "    <tr>\n",
       "      <th>3</th>\n",
       "      <td>1</td>\n",
       "      <td>1506825426267738</td>\n",
       "      <td>2</td>\n",
       "      <td>96663</td>\n",
       "    </tr>\n",
       "    <tr>\n",
       "      <th>4</th>\n",
       "      <td>2</td>\n",
       "      <td>1506825435299739</td>\n",
       "      <td>2</td>\n",
       "      <td>119592</td>\n",
       "    </tr>\n",
       "  </tbody>\n",
       "</table>\n",
       "</div>"
      ],
      "text/plain": [
       "   user_id        session_id  session_size  click_article_id\n",
       "0        0  1506825423271737             2            157541\n",
       "1        0  1506825423271737             2             68866\n",
       "2        1  1506825426267738             2            235840\n",
       "3        1  1506825426267738             2             96663\n",
       "4        2  1506825435299739             2            119592"
      ]
     },
     "execution_count": 8,
     "metadata": {},
     "output_type": "execute_result"
    }
   ],
   "source": [
    "df_clicks_clean = df_clicks[['user_id', 'session_id', 'session_size', 'click_article_id']]\n",
    "df_clicks_clean.head()"
   ]
  },
  {
   "cell_type": "code",
   "execution_count": 9,
   "metadata": {},
   "outputs": [
    {
     "name": "stdout",
     "output_type": "stream",
     "text": [
      "<class 'pandas.core.frame.DataFrame'>\n",
      "RangeIndex: 2988181 entries, 0 to 2988180\n",
      "Data columns (total 4 columns):\n",
      " #   Column            Dtype\n",
      "---  ------            -----\n",
      " 0   user_id           int64\n",
      " 1   session_id        int64\n",
      " 2   session_size      int64\n",
      " 3   click_article_id  int64\n",
      "dtypes: int64(4)\n",
      "memory usage: 91.2 MB\n"
     ]
    }
   ],
   "source": [
    "df_clicks_clean.info()"
   ]
  },
  {
   "cell_type": "markdown",
   "metadata": {},
   "source": [
    "### Suppression des utilisateurs ayant moins de N clicks sur des articles"
   ]
  },
  {
   "cell_type": "code",
   "execution_count": 10,
   "metadata": {},
   "outputs": [],
   "source": [
    "NB_CLICK_MIN_BY_USER = 3"
   ]
  },
  {
   "cell_type": "code",
   "execution_count": 11,
   "metadata": {},
   "outputs": [],
   "source": [
    "df_clicks_per_users_count = df_clicks_clean.groupby(['user_id']).size()"
   ]
  },
  {
   "cell_type": "code",
   "execution_count": 12,
   "metadata": {},
   "outputs": [],
   "source": [
    "df_users_with_enough_clicks = df_clicks_per_users_count[df_clicks_per_users_count >= NB_CLICK_MIN_BY_USER].reset_index()[['user_id']]"
   ]
  },
  {
   "cell_type": "code",
   "execution_count": 13,
   "metadata": {},
   "outputs": [
    {
     "data": {
      "text/html": [
       "<div>\n",
       "<style scoped>\n",
       "    .dataframe tbody tr th:only-of-type {\n",
       "        vertical-align: middle;\n",
       "    }\n",
       "\n",
       "    .dataframe tbody tr th {\n",
       "        vertical-align: top;\n",
       "    }\n",
       "\n",
       "    .dataframe thead th {\n",
       "        text-align: right;\n",
       "    }\n",
       "</style>\n",
       "<table border=\"1\" class=\"dataframe\">\n",
       "  <thead>\n",
       "    <tr style=\"text-align: right;\">\n",
       "      <th></th>\n",
       "      <th>user_id</th>\n",
       "    </tr>\n",
       "  </thead>\n",
       "  <tbody>\n",
       "    <tr>\n",
       "      <th>0</th>\n",
       "      <td>0</td>\n",
       "    </tr>\n",
       "    <tr>\n",
       "      <th>1</th>\n",
       "      <td>1</td>\n",
       "    </tr>\n",
       "    <tr>\n",
       "      <th>2</th>\n",
       "      <td>2</td>\n",
       "    </tr>\n",
       "    <tr>\n",
       "      <th>3</th>\n",
       "      <td>3</td>\n",
       "    </tr>\n",
       "    <tr>\n",
       "      <th>4</th>\n",
       "      <td>4</td>\n",
       "    </tr>\n",
       "    <tr>\n",
       "      <th>...</th>\n",
       "      <td>...</td>\n",
       "    </tr>\n",
       "    <tr>\n",
       "      <th>221464</th>\n",
       "      <td>322864</td>\n",
       "    </tr>\n",
       "    <tr>\n",
       "      <th>221465</th>\n",
       "      <td>322870</td>\n",
       "    </tr>\n",
       "    <tr>\n",
       "      <th>221466</th>\n",
       "      <td>322879</td>\n",
       "    </tr>\n",
       "    <tr>\n",
       "      <th>221467</th>\n",
       "      <td>322881</td>\n",
       "    </tr>\n",
       "    <tr>\n",
       "      <th>221468</th>\n",
       "      <td>322887</td>\n",
       "    </tr>\n",
       "  </tbody>\n",
       "</table>\n",
       "<p>221469 rows × 1 columns</p>\n",
       "</div>"
      ],
      "text/plain": [
       "        user_id\n",
       "0             0\n",
       "1             1\n",
       "2             2\n",
       "3             3\n",
       "4             4\n",
       "...         ...\n",
       "221464   322864\n",
       "221465   322870\n",
       "221466   322879\n",
       "221467   322881\n",
       "221468   322887\n",
       "\n",
       "[221469 rows x 1 columns]"
      ]
     },
     "execution_count": 13,
     "metadata": {},
     "output_type": "execute_result"
    }
   ],
   "source": [
    "df_users_with_enough_clicks"
   ]
  },
  {
   "cell_type": "code",
   "execution_count": 14,
   "metadata": {},
   "outputs": [
    {
     "name": "stdout",
     "output_type": "stream",
     "text": [
      "Number of unique users with a minimum of 3 clicks = 221469\n"
     ]
    }
   ],
   "source": [
    "nb_unique_users_with_enough_clicks = df_users_with_enough_clicks['user_id'].nunique()\n",
    "print(f\"Number of unique users with a minimum of {NB_CLICK_MIN_BY_USER} clicks = {nb_unique_users_with_enough_clicks}\")"
   ]
  },
  {
   "cell_type": "code",
   "execution_count": 15,
   "metadata": {},
   "outputs": [],
   "source": [
    "df_min_clicks_clean = df_clicks_clean.merge(df_users_with_enough_clicks)"
   ]
  },
  {
   "cell_type": "code",
   "execution_count": 16,
   "metadata": {},
   "outputs": [
    {
     "name": "stdout",
     "output_type": "stream",
     "text": [
      "<class 'pandas.core.frame.DataFrame'>\n",
      "Int64Index: 2785325 entries, 0 to 2785324\n",
      "Data columns (total 4 columns):\n",
      " #   Column            Dtype\n",
      "---  ------            -----\n",
      " 0   user_id           int64\n",
      " 1   session_id        int64\n",
      " 2   session_size      int64\n",
      " 3   click_article_id  int64\n",
      "dtypes: int64(4)\n",
      "memory usage: 106.3 MB\n"
     ]
    }
   ],
   "source": [
    "df_min_clicks_clean.info()"
   ]
  },
  {
   "cell_type": "code",
   "execution_count": 17,
   "metadata": {},
   "outputs": [],
   "source": [
    "df_users_without_enough_clicks = df_clicks_per_users_count[df_clicks_per_users_count < NB_CLICK_MIN_BY_USER].reset_index()[['user_id']]"
   ]
  },
  {
   "cell_type": "code",
   "execution_count": 18,
   "metadata": {},
   "outputs": [
    {
     "name": "stdout",
     "output_type": "stream",
     "text": [
      "Number of unique users without a minimum of 3 clicks = 101428\n"
     ]
    }
   ],
   "source": [
    "nb_unique_users_without_enough_clicks = df_users_without_enough_clicks['user_id'].nunique()\n",
    "print(f\"Number of unique users without a minimum of {NB_CLICK_MIN_BY_USER} clicks = {nb_unique_users_without_enough_clicks}\")"
   ]
  },
  {
   "cell_type": "markdown",
   "metadata": {},
   "source": [
    ">## <font color=#1800C8 >Chargement des fichiers `Articles` meta et embedding</font>"
   ]
  },
  {
   "cell_type": "code",
   "execution_count": 19,
   "metadata": {},
   "outputs": [],
   "source": [
    "matrix_articles_embeddings = pd.read_pickle(Path(DATA_PATH, \"articles_embeddings.pickle\"))"
   ]
  },
  {
   "cell_type": "code",
   "execution_count": 20,
   "metadata": {},
   "outputs": [
    {
     "data": {
      "text/html": [
       "<div>\n",
       "<style scoped>\n",
       "    .dataframe tbody tr th:only-of-type {\n",
       "        vertical-align: middle;\n",
       "    }\n",
       "\n",
       "    .dataframe tbody tr th {\n",
       "        vertical-align: top;\n",
       "    }\n",
       "\n",
       "    .dataframe thead th {\n",
       "        text-align: right;\n",
       "    }\n",
       "</style>\n",
       "<table border=\"1\" class=\"dataframe\">\n",
       "  <thead>\n",
       "    <tr style=\"text-align: right;\">\n",
       "      <th></th>\n",
       "      <th>embedding_0</th>\n",
       "      <th>embedding_1</th>\n",
       "      <th>embedding_2</th>\n",
       "      <th>embedding_3</th>\n",
       "      <th>embedding_4</th>\n",
       "      <th>embedding_5</th>\n",
       "      <th>embedding_6</th>\n",
       "      <th>embedding_7</th>\n",
       "      <th>embedding_8</th>\n",
       "      <th>embedding_9</th>\n",
       "      <th>...</th>\n",
       "      <th>embedding_240</th>\n",
       "      <th>embedding_241</th>\n",
       "      <th>embedding_242</th>\n",
       "      <th>embedding_243</th>\n",
       "      <th>embedding_244</th>\n",
       "      <th>embedding_245</th>\n",
       "      <th>embedding_246</th>\n",
       "      <th>embedding_247</th>\n",
       "      <th>embedding_248</th>\n",
       "      <th>embedding_249</th>\n",
       "    </tr>\n",
       "  </thead>\n",
       "  <tbody>\n",
       "    <tr>\n",
       "      <th>0</th>\n",
       "      <td>-0.161183</td>\n",
       "      <td>-0.957233</td>\n",
       "      <td>-0.137944</td>\n",
       "      <td>0.050855</td>\n",
       "      <td>0.830055</td>\n",
       "      <td>0.901365</td>\n",
       "      <td>-0.335148</td>\n",
       "      <td>-0.559561</td>\n",
       "      <td>-0.500603</td>\n",
       "      <td>0.165183</td>\n",
       "      <td>...</td>\n",
       "      <td>0.321248</td>\n",
       "      <td>0.313999</td>\n",
       "      <td>0.636412</td>\n",
       "      <td>0.169179</td>\n",
       "      <td>0.540524</td>\n",
       "      <td>-0.813182</td>\n",
       "      <td>0.286870</td>\n",
       "      <td>-0.231686</td>\n",
       "      <td>0.597416</td>\n",
       "      <td>0.409623</td>\n",
       "    </tr>\n",
       "    <tr>\n",
       "      <th>1</th>\n",
       "      <td>-0.523216</td>\n",
       "      <td>-0.974058</td>\n",
       "      <td>0.738608</td>\n",
       "      <td>0.155234</td>\n",
       "      <td>0.626294</td>\n",
       "      <td>0.485297</td>\n",
       "      <td>-0.715657</td>\n",
       "      <td>-0.897996</td>\n",
       "      <td>-0.359747</td>\n",
       "      <td>0.398246</td>\n",
       "      <td>...</td>\n",
       "      <td>-0.487843</td>\n",
       "      <td>0.823124</td>\n",
       "      <td>0.412688</td>\n",
       "      <td>-0.338654</td>\n",
       "      <td>0.320787</td>\n",
       "      <td>0.588643</td>\n",
       "      <td>-0.594137</td>\n",
       "      <td>0.182828</td>\n",
       "      <td>0.397090</td>\n",
       "      <td>-0.834364</td>\n",
       "    </tr>\n",
       "    <tr>\n",
       "      <th>2</th>\n",
       "      <td>-0.619619</td>\n",
       "      <td>-0.972960</td>\n",
       "      <td>-0.207360</td>\n",
       "      <td>-0.128861</td>\n",
       "      <td>0.044748</td>\n",
       "      <td>-0.387535</td>\n",
       "      <td>-0.730477</td>\n",
       "      <td>-0.066126</td>\n",
       "      <td>-0.754899</td>\n",
       "      <td>-0.242004</td>\n",
       "      <td>...</td>\n",
       "      <td>0.454756</td>\n",
       "      <td>0.473184</td>\n",
       "      <td>0.377866</td>\n",
       "      <td>-0.863887</td>\n",
       "      <td>-0.383365</td>\n",
       "      <td>0.137721</td>\n",
       "      <td>-0.810877</td>\n",
       "      <td>-0.447580</td>\n",
       "      <td>0.805932</td>\n",
       "      <td>-0.285284</td>\n",
       "    </tr>\n",
       "    <tr>\n",
       "      <th>3</th>\n",
       "      <td>-0.740843</td>\n",
       "      <td>-0.975749</td>\n",
       "      <td>0.391698</td>\n",
       "      <td>0.641738</td>\n",
       "      <td>-0.268645</td>\n",
       "      <td>0.191745</td>\n",
       "      <td>-0.825593</td>\n",
       "      <td>-0.710591</td>\n",
       "      <td>-0.040099</td>\n",
       "      <td>-0.110514</td>\n",
       "      <td>...</td>\n",
       "      <td>0.271535</td>\n",
       "      <td>0.036040</td>\n",
       "      <td>0.480029</td>\n",
       "      <td>-0.763173</td>\n",
       "      <td>0.022627</td>\n",
       "      <td>0.565165</td>\n",
       "      <td>-0.910286</td>\n",
       "      <td>-0.537838</td>\n",
       "      <td>0.243541</td>\n",
       "      <td>-0.885329</td>\n",
       "    </tr>\n",
       "    <tr>\n",
       "      <th>4</th>\n",
       "      <td>-0.279052</td>\n",
       "      <td>-0.972315</td>\n",
       "      <td>0.685374</td>\n",
       "      <td>0.113056</td>\n",
       "      <td>0.238315</td>\n",
       "      <td>0.271913</td>\n",
       "      <td>-0.568816</td>\n",
       "      <td>0.341194</td>\n",
       "      <td>-0.600554</td>\n",
       "      <td>-0.125644</td>\n",
       "      <td>...</td>\n",
       "      <td>0.238286</td>\n",
       "      <td>0.809268</td>\n",
       "      <td>0.427521</td>\n",
       "      <td>-0.615932</td>\n",
       "      <td>-0.503697</td>\n",
       "      <td>0.614450</td>\n",
       "      <td>-0.917760</td>\n",
       "      <td>-0.424061</td>\n",
       "      <td>0.185484</td>\n",
       "      <td>-0.580292</td>\n",
       "    </tr>\n",
       "  </tbody>\n",
       "</table>\n",
       "<p>5 rows × 250 columns</p>\n",
       "</div>"
      ],
      "text/plain": [
       "   embedding_0  embedding_1  embedding_2  embedding_3  embedding_4  \\\n",
       "0    -0.161183    -0.957233    -0.137944     0.050855     0.830055   \n",
       "1    -0.523216    -0.974058     0.738608     0.155234     0.626294   \n",
       "2    -0.619619    -0.972960    -0.207360    -0.128861     0.044748   \n",
       "3    -0.740843    -0.975749     0.391698     0.641738    -0.268645   \n",
       "4    -0.279052    -0.972315     0.685374     0.113056     0.238315   \n",
       "\n",
       "   embedding_5  embedding_6  embedding_7  embedding_8  embedding_9  ...  \\\n",
       "0     0.901365    -0.335148    -0.559561    -0.500603     0.165183  ...   \n",
       "1     0.485297    -0.715657    -0.897996    -0.359747     0.398246  ...   \n",
       "2    -0.387535    -0.730477    -0.066126    -0.754899    -0.242004  ...   \n",
       "3     0.191745    -0.825593    -0.710591    -0.040099    -0.110514  ...   \n",
       "4     0.271913    -0.568816     0.341194    -0.600554    -0.125644  ...   \n",
       "\n",
       "   embedding_240  embedding_241  embedding_242  embedding_243  embedding_244  \\\n",
       "0       0.321248       0.313999       0.636412       0.169179       0.540524   \n",
       "1      -0.487843       0.823124       0.412688      -0.338654       0.320787   \n",
       "2       0.454756       0.473184       0.377866      -0.863887      -0.383365   \n",
       "3       0.271535       0.036040       0.480029      -0.763173       0.022627   \n",
       "4       0.238286       0.809268       0.427521      -0.615932      -0.503697   \n",
       "\n",
       "   embedding_245  embedding_246  embedding_247  embedding_248  embedding_249  \n",
       "0      -0.813182       0.286870      -0.231686       0.597416       0.409623  \n",
       "1       0.588643      -0.594137       0.182828       0.397090      -0.834364  \n",
       "2       0.137721      -0.810877      -0.447580       0.805932      -0.285284  \n",
       "3       0.565165      -0.910286      -0.537838       0.243541      -0.885329  \n",
       "4       0.614450      -0.917760      -0.424061       0.185484      -0.580292  \n",
       "\n",
       "[5 rows x 250 columns]"
      ]
     },
     "execution_count": 20,
     "metadata": {},
     "output_type": "execute_result"
    }
   ],
   "source": [
    "df_articles_embed = pd.DataFrame(\n",
    "            matrix_articles_embeddings,\n",
    "            columns=[\"embedding_\" + str(i) for i in range(250)],\n",
    "        )\n",
    "\n",
    "df_articles_embed.head()"
   ]
  },
  {
   "cell_type": "code",
   "execution_count": 21,
   "metadata": {},
   "outputs": [
    {
     "data": {
      "text/plain": [
       "(364047, 250)"
      ]
     },
     "execution_count": 21,
     "metadata": {},
     "output_type": "execute_result"
    }
   ],
   "source": [
    "df_articles_embed.shape"
   ]
  },
  {
   "cell_type": "code",
   "execution_count": 22,
   "metadata": {},
   "outputs": [
    {
     "name": "stdout",
     "output_type": "stream",
     "text": [
      "<class 'pandas.core.frame.DataFrame'>\n",
      "RangeIndex: 364047 entries, 0 to 364046\n",
      "Columns: 250 entries, embedding_0 to embedding_249\n",
      "dtypes: float32(250)\n",
      "memory usage: 347.2 MB\n"
     ]
    }
   ],
   "source": [
    "df_articles_embed.info()"
   ]
  },
  {
   "cell_type": "markdown",
   "metadata": {},
   "source": [
    "Le fichier articles_embedding sera uploadé sur Azure Blob Storage afin d'être utilisé par ma fonction Azure Function. Le fichier fait actuellement 347Mo, il est trop volumineux pour une utilisation dans le Cloud, il faut donc réduir sa taille.\n",
    "\n",
    "Pour cela, je vais appliquer un ACP sur le fichier articles_embedding et le sauvegarder afin de réduire sa taille."
   ]
  },
  {
   "cell_type": "code",
   "execution_count": 23,
   "metadata": {},
   "outputs": [],
   "source": [
    "pca = PCA(n_components=70)\n",
    "pca.fit(matrix_articles_embeddings)\n",
    "matrix_articles_embed_pca = pca.transform(matrix_articles_embeddings)"
   ]
  },
  {
   "cell_type": "code",
   "execution_count": 24,
   "metadata": {},
   "outputs": [
    {
     "data": {
      "text/html": [
       "<div>\n",
       "<style scoped>\n",
       "    .dataframe tbody tr th:only-of-type {\n",
       "        vertical-align: middle;\n",
       "    }\n",
       "\n",
       "    .dataframe tbody tr th {\n",
       "        vertical-align: top;\n",
       "    }\n",
       "\n",
       "    .dataframe thead th {\n",
       "        text-align: right;\n",
       "    }\n",
       "</style>\n",
       "<table border=\"1\" class=\"dataframe\">\n",
       "  <thead>\n",
       "    <tr style=\"text-align: right;\">\n",
       "      <th></th>\n",
       "      <th>embedding_0</th>\n",
       "      <th>embedding_1</th>\n",
       "      <th>embedding_2</th>\n",
       "      <th>embedding_3</th>\n",
       "      <th>embedding_4</th>\n",
       "      <th>embedding_5</th>\n",
       "      <th>embedding_6</th>\n",
       "      <th>embedding_7</th>\n",
       "      <th>embedding_8</th>\n",
       "      <th>embedding_9</th>\n",
       "      <th>...</th>\n",
       "      <th>embedding_60</th>\n",
       "      <th>embedding_61</th>\n",
       "      <th>embedding_62</th>\n",
       "      <th>embedding_63</th>\n",
       "      <th>embedding_64</th>\n",
       "      <th>embedding_65</th>\n",
       "      <th>embedding_66</th>\n",
       "      <th>embedding_67</th>\n",
       "      <th>embedding_68</th>\n",
       "      <th>embedding_69</th>\n",
       "    </tr>\n",
       "  </thead>\n",
       "  <tbody>\n",
       "    <tr>\n",
       "      <th>0</th>\n",
       "      <td>-2.176782</td>\n",
       "      <td>-1.316915</td>\n",
       "      <td>-1.029051</td>\n",
       "      <td>0.901914</td>\n",
       "      <td>-1.809527</td>\n",
       "      <td>2.064713</td>\n",
       "      <td>1.221919</td>\n",
       "      <td>0.024423</td>\n",
       "      <td>0.927232</td>\n",
       "      <td>0.669843</td>\n",
       "      <td>...</td>\n",
       "      <td>0.230072</td>\n",
       "      <td>-0.100480</td>\n",
       "      <td>0.048107</td>\n",
       "      <td>0.056837</td>\n",
       "      <td>-0.320305</td>\n",
       "      <td>0.526892</td>\n",
       "      <td>0.112941</td>\n",
       "      <td>-0.421229</td>\n",
       "      <td>-0.021431</td>\n",
       "      <td>0.070523</td>\n",
       "    </tr>\n",
       "    <tr>\n",
       "      <th>1</th>\n",
       "      <td>-1.735176</td>\n",
       "      <td>0.489897</td>\n",
       "      <td>3.268561</td>\n",
       "      <td>0.087848</td>\n",
       "      <td>1.473068</td>\n",
       "      <td>0.932718</td>\n",
       "      <td>-1.841612</td>\n",
       "      <td>0.881810</td>\n",
       "      <td>-0.207193</td>\n",
       "      <td>-0.816811</td>\n",
       "      <td>...</td>\n",
       "      <td>-0.102466</td>\n",
       "      <td>0.083803</td>\n",
       "      <td>-0.034274</td>\n",
       "      <td>0.419722</td>\n",
       "      <td>0.300865</td>\n",
       "      <td>-0.113687</td>\n",
       "      <td>-0.143635</td>\n",
       "      <td>0.196812</td>\n",
       "      <td>-0.170113</td>\n",
       "      <td>0.094297</td>\n",
       "    </tr>\n",
       "    <tr>\n",
       "      <th>2</th>\n",
       "      <td>-0.912690</td>\n",
       "      <td>-2.089337</td>\n",
       "      <td>1.865874</td>\n",
       "      <td>-1.202533</td>\n",
       "      <td>2.530589</td>\n",
       "      <td>0.521950</td>\n",
       "      <td>-0.224346</td>\n",
       "      <td>-1.479936</td>\n",
       "      <td>-0.191869</td>\n",
       "      <td>-1.356810</td>\n",
       "      <td>...</td>\n",
       "      <td>0.104665</td>\n",
       "      <td>0.102614</td>\n",
       "      <td>0.192065</td>\n",
       "      <td>0.220255</td>\n",
       "      <td>0.142187</td>\n",
       "      <td>-0.135402</td>\n",
       "      <td>0.144126</td>\n",
       "      <td>-0.140249</td>\n",
       "      <td>0.065767</td>\n",
       "      <td>0.280333</td>\n",
       "    </tr>\n",
       "    <tr>\n",
       "      <th>3</th>\n",
       "      <td>1.096568</td>\n",
       "      <td>0.212962</td>\n",
       "      <td>4.183520</td>\n",
       "      <td>-0.649565</td>\n",
       "      <td>-0.130877</td>\n",
       "      <td>-1.126544</td>\n",
       "      <td>-1.063992</td>\n",
       "      <td>0.662896</td>\n",
       "      <td>0.348154</td>\n",
       "      <td>-1.463895</td>\n",
       "      <td>...</td>\n",
       "      <td>0.180414</td>\n",
       "      <td>-0.028628</td>\n",
       "      <td>-0.371025</td>\n",
       "      <td>-0.104296</td>\n",
       "      <td>0.366363</td>\n",
       "      <td>0.298239</td>\n",
       "      <td>0.348224</td>\n",
       "      <td>-0.039070</td>\n",
       "      <td>-0.032764</td>\n",
       "      <td>-0.297804</td>\n",
       "    </tr>\n",
       "    <tr>\n",
       "      <th>4</th>\n",
       "      <td>0.193784</td>\n",
       "      <td>-0.263947</td>\n",
       "      <td>1.896586</td>\n",
       "      <td>-1.834356</td>\n",
       "      <td>1.270372</td>\n",
       "      <td>1.723282</td>\n",
       "      <td>-0.328994</td>\n",
       "      <td>-0.283799</td>\n",
       "      <td>-0.659793</td>\n",
       "      <td>-1.223754</td>\n",
       "      <td>...</td>\n",
       "      <td>0.448658</td>\n",
       "      <td>-0.348967</td>\n",
       "      <td>0.223200</td>\n",
       "      <td>-0.080994</td>\n",
       "      <td>0.406474</td>\n",
       "      <td>-0.119758</td>\n",
       "      <td>0.378516</td>\n",
       "      <td>0.104018</td>\n",
       "      <td>0.165741</td>\n",
       "      <td>-0.122331</td>\n",
       "    </tr>\n",
       "  </tbody>\n",
       "</table>\n",
       "<p>5 rows × 70 columns</p>\n",
       "</div>"
      ],
      "text/plain": [
       "   embedding_0  embedding_1  embedding_2  embedding_3  embedding_4  \\\n",
       "0    -2.176782    -1.316915    -1.029051     0.901914    -1.809527   \n",
       "1    -1.735176     0.489897     3.268561     0.087848     1.473068   \n",
       "2    -0.912690    -2.089337     1.865874    -1.202533     2.530589   \n",
       "3     1.096568     0.212962     4.183520    -0.649565    -0.130877   \n",
       "4     0.193784    -0.263947     1.896586    -1.834356     1.270372   \n",
       "\n",
       "   embedding_5  embedding_6  embedding_7  embedding_8  embedding_9  ...  \\\n",
       "0     2.064713     1.221919     0.024423     0.927232     0.669843  ...   \n",
       "1     0.932718    -1.841612     0.881810    -0.207193    -0.816811  ...   \n",
       "2     0.521950    -0.224346    -1.479936    -0.191869    -1.356810  ...   \n",
       "3    -1.126544    -1.063992     0.662896     0.348154    -1.463895  ...   \n",
       "4     1.723282    -0.328994    -0.283799    -0.659793    -1.223754  ...   \n",
       "\n",
       "   embedding_60  embedding_61  embedding_62  embedding_63  embedding_64  \\\n",
       "0      0.230072     -0.100480      0.048107      0.056837     -0.320305   \n",
       "1     -0.102466      0.083803     -0.034274      0.419722      0.300865   \n",
       "2      0.104665      0.102614      0.192065      0.220255      0.142187   \n",
       "3      0.180414     -0.028628     -0.371025     -0.104296      0.366363   \n",
       "4      0.448658     -0.348967      0.223200     -0.080994      0.406474   \n",
       "\n",
       "   embedding_65  embedding_66  embedding_67  embedding_68  embedding_69  \n",
       "0      0.526892      0.112941     -0.421229     -0.021431      0.070523  \n",
       "1     -0.113687     -0.143635      0.196812     -0.170113      0.094297  \n",
       "2     -0.135402      0.144126     -0.140249      0.065767      0.280333  \n",
       "3      0.298239      0.348224     -0.039070     -0.032764     -0.297804  \n",
       "4     -0.119758      0.378516      0.104018      0.165741     -0.122331  \n",
       "\n",
       "[5 rows x 70 columns]"
      ]
     },
     "execution_count": 24,
     "metadata": {},
     "output_type": "execute_result"
    }
   ],
   "source": [
    "df_articles_embed_pca = pd.DataFrame(matrix_articles_embed_pca, columns=[\"embedding_\" + str(i) for i in range(matrix_articles_embed_pca.shape[1])])\n",
    "df_articles_embed_pca.head()"
   ]
  },
  {
   "cell_type": "code",
   "execution_count": 25,
   "metadata": {},
   "outputs": [
    {
     "data": {
      "text/plain": [
       "0.9773041346472096"
      ]
     },
     "execution_count": 25,
     "metadata": {},
     "output_type": "execute_result"
    }
   ],
   "source": [
    "sum(pca.explained_variance_ratio_)"
   ]
  },
  {
   "cell_type": "code",
   "execution_count": 26,
   "metadata": {},
   "outputs": [
    {
     "data": {
      "text/plain": [
       "(364047, 70)"
      ]
     },
     "execution_count": 26,
     "metadata": {},
     "output_type": "execute_result"
    }
   ],
   "source": [
    "df_articles_embed_pca.shape"
   ]
  },
  {
   "cell_type": "code",
   "execution_count": 27,
   "metadata": {},
   "outputs": [
    {
     "name": "stdout",
     "output_type": "stream",
     "text": [
      "<class 'pandas.core.frame.DataFrame'>\n",
      "RangeIndex: 364047 entries, 0 to 364046\n",
      "Columns: 70 entries, embedding_0 to embedding_69\n",
      "dtypes: float32(70)\n",
      "memory usage: 97.2 MB\n"
     ]
    }
   ],
   "source": [
    "df_articles_embed_pca.info(verbose=False)"
   ]
  },
  {
   "cell_type": "markdown",
   "metadata": {},
   "source": [
    "#### L'ACP permet de passer de 250 features à 70, et de garder une variance de 0.977 \n",
    "#### La taille du fichier embedding est passée de 347 Mo à 97Mo après la réduction de dimension."
   ]
  },
  {
   "cell_type": "code",
   "execution_count": 28,
   "metadata": {},
   "outputs": [
    {
     "data": {
      "text/html": [
       "<div>\n",
       "<style scoped>\n",
       "    .dataframe tbody tr th:only-of-type {\n",
       "        vertical-align: middle;\n",
       "    }\n",
       "\n",
       "    .dataframe tbody tr th {\n",
       "        vertical-align: top;\n",
       "    }\n",
       "\n",
       "    .dataframe thead th {\n",
       "        text-align: right;\n",
       "    }\n",
       "</style>\n",
       "<table border=\"1\" class=\"dataframe\">\n",
       "  <thead>\n",
       "    <tr style=\"text-align: right;\">\n",
       "      <th></th>\n",
       "      <th>article_id</th>\n",
       "      <th>category_id</th>\n",
       "      <th>created_at_ts</th>\n",
       "      <th>publisher_id</th>\n",
       "      <th>words_count</th>\n",
       "    </tr>\n",
       "  </thead>\n",
       "  <tbody>\n",
       "    <tr>\n",
       "      <th>0</th>\n",
       "      <td>0</td>\n",
       "      <td>0</td>\n",
       "      <td>2017-12-13 06:53:39</td>\n",
       "      <td>0</td>\n",
       "      <td>168</td>\n",
       "    </tr>\n",
       "    <tr>\n",
       "      <th>1</th>\n",
       "      <td>1</td>\n",
       "      <td>1</td>\n",
       "      <td>2014-07-14 14:45:36</td>\n",
       "      <td>0</td>\n",
       "      <td>189</td>\n",
       "    </tr>\n",
       "    <tr>\n",
       "      <th>2</th>\n",
       "      <td>2</td>\n",
       "      <td>1</td>\n",
       "      <td>2014-08-22 02:35:06</td>\n",
       "      <td>0</td>\n",
       "      <td>250</td>\n",
       "    </tr>\n",
       "    <tr>\n",
       "      <th>3</th>\n",
       "      <td>3</td>\n",
       "      <td>1</td>\n",
       "      <td>2014-08-19 19:11:53</td>\n",
       "      <td>0</td>\n",
       "      <td>230</td>\n",
       "    </tr>\n",
       "    <tr>\n",
       "      <th>4</th>\n",
       "      <td>4</td>\n",
       "      <td>1</td>\n",
       "      <td>2014-08-03 15:06:11</td>\n",
       "      <td>0</td>\n",
       "      <td>162</td>\n",
       "    </tr>\n",
       "  </tbody>\n",
       "</table>\n",
       "</div>"
      ],
      "text/plain": [
       "  article_id category_id       created_at_ts publisher_id  words_count\n",
       "0          0           0 2017-12-13 06:53:39            0          168\n",
       "1          1           1 2014-07-14 14:45:36            0          189\n",
       "2          2           1 2014-08-22 02:35:06            0          250\n",
       "3          3           1 2014-08-19 19:11:53            0          230\n",
       "4          4           1 2014-08-03 15:06:11            0          162"
      ]
     },
     "execution_count": 28,
     "metadata": {},
     "output_type": "execute_result"
    }
   ],
   "source": [
    "df_articles_meta = pd.read_csv(\n",
    "            Path(DATA_PATH, \"articles_metadata.csv\"),\n",
    "            parse_dates=[\"created_at_ts\"],\n",
    "            date_parser=lambda x: datetime.fromtimestamp(int(x) / 1000),\n",
    "            dtype={\n",
    "                \"article_id\": \"category\",\n",
    "                \"category_id\": \"category\",\n",
    "                \"publisher_id\": \"category\",\n",
    "                \"words_count\": \"int\",\n",
    "            },\n",
    "        )\n",
    "df_articles_meta.head()"
   ]
  },
  {
   "cell_type": "code",
   "execution_count": 29,
   "metadata": {},
   "outputs": [
    {
     "name": "stdout",
     "output_type": "stream",
     "text": [
      "<class 'pandas.core.frame.DataFrame'>\n",
      "RangeIndex: 364047 entries, 0 to 364046\n",
      "Data columns (total 5 columns):\n",
      " #   Column         Non-Null Count   Dtype         \n",
      "---  ------         --------------   -----         \n",
      " 0   article_id     364047 non-null  category      \n",
      " 1   category_id    364047 non-null  category      \n",
      " 2   created_at_ts  364047 non-null  datetime64[ns]\n",
      " 3   publisher_id   364047 non-null  category      \n",
      " 4   words_count    364047 non-null  int64         \n",
      "dtypes: category(3), datetime64[ns](1), int64(1)\n",
      "memory usage: 18.8 MB\n"
     ]
    }
   ],
   "source": [
    "df_articles_meta.info()"
   ]
  },
  {
   "cell_type": "markdown",
   "metadata": {},
   "source": [
    ">## <font color=#1800C8 >Chargement du dataset contenant  `Clicks` & `Articles Metadata` :</font>"
   ]
  },
  {
   "cell_type": "code",
   "execution_count": 30,
   "metadata": {},
   "outputs": [],
   "source": [
    "df_clicks_articles = pd.read_csv('myContent_dataset.csv')"
   ]
  },
  {
   "cell_type": "code",
   "execution_count": 31,
   "metadata": {},
   "outputs": [
    {
     "data": {
      "text/html": [
       "<div>\n",
       "<style scoped>\n",
       "    .dataframe tbody tr th:only-of-type {\n",
       "        vertical-align: middle;\n",
       "    }\n",
       "\n",
       "    .dataframe tbody tr th {\n",
       "        vertical-align: top;\n",
       "    }\n",
       "\n",
       "    .dataframe thead th {\n",
       "        text-align: right;\n",
       "    }\n",
       "</style>\n",
       "<table border=\"1\" class=\"dataframe\">\n",
       "  <thead>\n",
       "    <tr style=\"text-align: right;\">\n",
       "      <th></th>\n",
       "      <th>user_id</th>\n",
       "      <th>session_id</th>\n",
       "      <th>session_start</th>\n",
       "      <th>session_size</th>\n",
       "      <th>click_article_id</th>\n",
       "      <th>click_timestamp</th>\n",
       "      <th>click_environment</th>\n",
       "      <th>click_deviceGroup</th>\n",
       "      <th>click_os</th>\n",
       "      <th>click_country</th>\n",
       "      <th>click_region</th>\n",
       "      <th>click_referrer_type</th>\n",
       "      <th>article_id</th>\n",
       "      <th>category_id</th>\n",
       "      <th>created_at_ts</th>\n",
       "      <th>publisher_id</th>\n",
       "      <th>words_count</th>\n",
       "    </tr>\n",
       "  </thead>\n",
       "  <tbody>\n",
       "    <tr>\n",
       "      <th>0</th>\n",
       "      <td>0</td>\n",
       "      <td>1506825423271737</td>\n",
       "      <td>1506825423000</td>\n",
       "      <td>2</td>\n",
       "      <td>157541</td>\n",
       "      <td>1506826828020</td>\n",
       "      <td>4</td>\n",
       "      <td>3</td>\n",
       "      <td>20</td>\n",
       "      <td>1</td>\n",
       "      <td>20</td>\n",
       "      <td>2</td>\n",
       "      <td>157541</td>\n",
       "      <td>281</td>\n",
       "      <td>1506800518000</td>\n",
       "      <td>0</td>\n",
       "      <td>280</td>\n",
       "    </tr>\n",
       "    <tr>\n",
       "      <th>1</th>\n",
       "      <td>20</td>\n",
       "      <td>1506825727279757</td>\n",
       "      <td>1506825727000</td>\n",
       "      <td>2</td>\n",
       "      <td>157541</td>\n",
       "      <td>1506836548634</td>\n",
       "      <td>4</td>\n",
       "      <td>1</td>\n",
       "      <td>17</td>\n",
       "      <td>1</td>\n",
       "      <td>9</td>\n",
       "      <td>1</td>\n",
       "      <td>157541</td>\n",
       "      <td>281</td>\n",
       "      <td>1506800518000</td>\n",
       "      <td>0</td>\n",
       "      <td>280</td>\n",
       "    </tr>\n",
       "    <tr>\n",
       "      <th>2</th>\n",
       "      <td>44</td>\n",
       "      <td>1506826139185781</td>\n",
       "      <td>1506826139000</td>\n",
       "      <td>5</td>\n",
       "      <td>157541</td>\n",
       "      <td>1506857278141</td>\n",
       "      <td>4</td>\n",
       "      <td>1</td>\n",
       "      <td>17</td>\n",
       "      <td>1</td>\n",
       "      <td>12</td>\n",
       "      <td>1</td>\n",
       "      <td>157541</td>\n",
       "      <td>281</td>\n",
       "      <td>1506800518000</td>\n",
       "      <td>0</td>\n",
       "      <td>280</td>\n",
       "    </tr>\n",
       "    <tr>\n",
       "      <th>3</th>\n",
       "      <td>45</td>\n",
       "      <td>1506826142324782</td>\n",
       "      <td>1506826142000</td>\n",
       "      <td>2</td>\n",
       "      <td>157541</td>\n",
       "      <td>1506827309970</td>\n",
       "      <td>4</td>\n",
       "      <td>1</td>\n",
       "      <td>17</td>\n",
       "      <td>1</td>\n",
       "      <td>17</td>\n",
       "      <td>1</td>\n",
       "      <td>157541</td>\n",
       "      <td>281</td>\n",
       "      <td>1506800518000</td>\n",
       "      <td>0</td>\n",
       "      <td>280</td>\n",
       "    </tr>\n",
       "    <tr>\n",
       "      <th>4</th>\n",
       "      <td>76</td>\n",
       "      <td>1506826463226813</td>\n",
       "      <td>1506826463000</td>\n",
       "      <td>2</td>\n",
       "      <td>157541</td>\n",
       "      <td>1506828823469</td>\n",
       "      <td>4</td>\n",
       "      <td>3</td>\n",
       "      <td>2</td>\n",
       "      <td>1</td>\n",
       "      <td>21</td>\n",
       "      <td>1</td>\n",
       "      <td>157541</td>\n",
       "      <td>281</td>\n",
       "      <td>1506800518000</td>\n",
       "      <td>0</td>\n",
       "      <td>280</td>\n",
       "    </tr>\n",
       "  </tbody>\n",
       "</table>\n",
       "</div>"
      ],
      "text/plain": [
       "   user_id        session_id  session_start  session_size  click_article_id  \\\n",
       "0        0  1506825423271737  1506825423000             2            157541   \n",
       "1       20  1506825727279757  1506825727000             2            157541   \n",
       "2       44  1506826139185781  1506826139000             5            157541   \n",
       "3       45  1506826142324782  1506826142000             2            157541   \n",
       "4       76  1506826463226813  1506826463000             2            157541   \n",
       "\n",
       "   click_timestamp  click_environment  click_deviceGroup  click_os  \\\n",
       "0    1506826828020                  4                  3        20   \n",
       "1    1506836548634                  4                  1        17   \n",
       "2    1506857278141                  4                  1        17   \n",
       "3    1506827309970                  4                  1        17   \n",
       "4    1506828823469                  4                  3         2   \n",
       "\n",
       "   click_country  click_region  click_referrer_type  article_id  category_id  \\\n",
       "0              1            20                    2      157541          281   \n",
       "1              1             9                    1      157541          281   \n",
       "2              1            12                    1      157541          281   \n",
       "3              1            17                    1      157541          281   \n",
       "4              1            21                    1      157541          281   \n",
       "\n",
       "   created_at_ts  publisher_id  words_count  \n",
       "0  1506800518000             0          280  \n",
       "1  1506800518000             0          280  \n",
       "2  1506800518000             0          280  \n",
       "3  1506800518000             0          280  \n",
       "4  1506800518000             0          280  "
      ]
     },
     "execution_count": 31,
     "metadata": {},
     "output_type": "execute_result"
    }
   ],
   "source": [
    "df_clicks_articles.head()"
   ]
  },
  {
   "cell_type": "code",
   "execution_count": 32,
   "metadata": {},
   "outputs": [
    {
     "name": "stdout",
     "output_type": "stream",
     "text": [
      "<class 'pandas.core.frame.DataFrame'>\n",
      "RangeIndex: 2988181 entries, 0 to 2988180\n",
      "Data columns (total 17 columns):\n",
      " #   Column               Dtype\n",
      "---  ------               -----\n",
      " 0   user_id              int64\n",
      " 1   session_id           int64\n",
      " 2   session_start        int64\n",
      " 3   session_size         int64\n",
      " 4   click_article_id     int64\n",
      " 5   click_timestamp      int64\n",
      " 6   click_environment    int64\n",
      " 7   click_deviceGroup    int64\n",
      " 8   click_os             int64\n",
      " 9   click_country        int64\n",
      " 10  click_region         int64\n",
      " 11  click_referrer_type  int64\n",
      " 12  article_id           int64\n",
      " 13  category_id          int64\n",
      " 14  created_at_ts        int64\n",
      " 15  publisher_id         int64\n",
      " 16  words_count          int64\n",
      "dtypes: int64(17)\n",
      "memory usage: 387.6 MB\n"
     ]
    }
   ],
   "source": [
    "df_clicks_articles.info()"
   ]
  },
  {
   "cell_type": "markdown",
   "metadata": {},
   "source": [
    ">## <font color=#1800C8 >Choix des features :</font>"
   ]
  },
  {
   "cell_type": "code",
   "execution_count": 33,
   "metadata": {
    "scrolled": true
   },
   "outputs": [
    {
     "data": {
      "text/html": [
       "<div>\n",
       "<style scoped>\n",
       "    .dataframe tbody tr th:only-of-type {\n",
       "        vertical-align: middle;\n",
       "    }\n",
       "\n",
       "    .dataframe tbody tr th {\n",
       "        vertical-align: top;\n",
       "    }\n",
       "\n",
       "    .dataframe thead th {\n",
       "        text-align: right;\n",
       "    }\n",
       "</style>\n",
       "<table border=\"1\" class=\"dataframe\">\n",
       "  <thead>\n",
       "    <tr style=\"text-align: right;\">\n",
       "      <th></th>\n",
       "      <th>user_id</th>\n",
       "      <th>click_timestamp</th>\n",
       "      <th>click_country</th>\n",
       "      <th>click_region</th>\n",
       "      <th>article_id</th>\n",
       "      <th>category_id</th>\n",
       "      <th>words_count</th>\n",
       "    </tr>\n",
       "  </thead>\n",
       "  <tbody>\n",
       "    <tr>\n",
       "      <th>0</th>\n",
       "      <td>0</td>\n",
       "      <td>1506826828020</td>\n",
       "      <td>1</td>\n",
       "      <td>20</td>\n",
       "      <td>157541</td>\n",
       "      <td>281</td>\n",
       "      <td>280</td>\n",
       "    </tr>\n",
       "    <tr>\n",
       "      <th>1</th>\n",
       "      <td>20</td>\n",
       "      <td>1506836548634</td>\n",
       "      <td>1</td>\n",
       "      <td>9</td>\n",
       "      <td>157541</td>\n",
       "      <td>281</td>\n",
       "      <td>280</td>\n",
       "    </tr>\n",
       "    <tr>\n",
       "      <th>2</th>\n",
       "      <td>44</td>\n",
       "      <td>1506857278141</td>\n",
       "      <td>1</td>\n",
       "      <td>12</td>\n",
       "      <td>157541</td>\n",
       "      <td>281</td>\n",
       "      <td>280</td>\n",
       "    </tr>\n",
       "    <tr>\n",
       "      <th>3</th>\n",
       "      <td>45</td>\n",
       "      <td>1506827309970</td>\n",
       "      <td>1</td>\n",
       "      <td>17</td>\n",
       "      <td>157541</td>\n",
       "      <td>281</td>\n",
       "      <td>280</td>\n",
       "    </tr>\n",
       "    <tr>\n",
       "      <th>4</th>\n",
       "      <td>76</td>\n",
       "      <td>1506828823469</td>\n",
       "      <td>1</td>\n",
       "      <td>21</td>\n",
       "      <td>157541</td>\n",
       "      <td>281</td>\n",
       "      <td>280</td>\n",
       "    </tr>\n",
       "  </tbody>\n",
       "</table>\n",
       "</div>"
      ],
      "text/plain": [
       "   user_id  click_timestamp  click_country  click_region  article_id  \\\n",
       "0        0    1506826828020              1            20      157541   \n",
       "1       20    1506836548634              1             9      157541   \n",
       "2       44    1506857278141              1            12      157541   \n",
       "3       45    1506827309970              1            17      157541   \n",
       "4       76    1506828823469              1            21      157541   \n",
       "\n",
       "   category_id  words_count  \n",
       "0          281          280  \n",
       "1          281          280  \n",
       "2          281          280  \n",
       "3          281          280  \n",
       "4          281          280  "
      ]
     },
     "execution_count": 33,
     "metadata": {},
     "output_type": "execute_result"
    }
   ],
   "source": [
    "df_clicks_articles_clean = pd.DataFrame(df_clicks_articles, columns= ['user_id', 'click_timestamp', 'click_country', 'click_region', 'article_id', 'category_id', 'words_count'])\n",
    "df_clicks_articles_clean.head()"
   ]
  },
  {
   "cell_type": "code",
   "execution_count": 34,
   "metadata": {},
   "outputs": [
    {
     "name": "stdout",
     "output_type": "stream",
     "text": [
      "<class 'pandas.core.frame.DataFrame'>\n",
      "RangeIndex: 2988181 entries, 0 to 2988180\n",
      "Data columns (total 7 columns):\n",
      " #   Column           Dtype\n",
      "---  ------           -----\n",
      " 0   user_id          int64\n",
      " 1   click_timestamp  int64\n",
      " 2   click_country    int64\n",
      " 3   click_region     int64\n",
      " 4   article_id       int64\n",
      " 5   category_id      int64\n",
      " 6   words_count      int64\n",
      "dtypes: int64(7)\n",
      "memory usage: 159.6 MB\n"
     ]
    }
   ],
   "source": [
    "df_clicks_articles_clean.info()"
   ]
  },
  {
   "cell_type": "code",
   "execution_count": 35,
   "metadata": {},
   "outputs": [
    {
     "data": {
      "text/html": [
       "<div>\n",
       "<style scoped>\n",
       "    .dataframe tbody tr th:only-of-type {\n",
       "        vertical-align: middle;\n",
       "    }\n",
       "\n",
       "    .dataframe tbody tr th {\n",
       "        vertical-align: top;\n",
       "    }\n",
       "\n",
       "    .dataframe thead th {\n",
       "        text-align: right;\n",
       "    }\n",
       "</style>\n",
       "<table border=\"1\" class=\"dataframe\">\n",
       "  <thead>\n",
       "    <tr style=\"text-align: right;\">\n",
       "      <th></th>\n",
       "      <th>user_id</th>\n",
       "      <th>session_id</th>\n",
       "      <th>session_size</th>\n",
       "      <th>click_article_id</th>\n",
       "    </tr>\n",
       "  </thead>\n",
       "  <tbody>\n",
       "    <tr>\n",
       "      <th>0</th>\n",
       "      <td>0</td>\n",
       "      <td>1506825423271737</td>\n",
       "      <td>2</td>\n",
       "      <td>157541</td>\n",
       "    </tr>\n",
       "    <tr>\n",
       "      <th>1</th>\n",
       "      <td>0</td>\n",
       "      <td>1506825423271737</td>\n",
       "      <td>2</td>\n",
       "      <td>68866</td>\n",
       "    </tr>\n",
       "    <tr>\n",
       "      <th>2</th>\n",
       "      <td>0</td>\n",
       "      <td>1507340000920377</td>\n",
       "      <td>2</td>\n",
       "      <td>96755</td>\n",
       "    </tr>\n",
       "    <tr>\n",
       "      <th>3</th>\n",
       "      <td>0</td>\n",
       "      <td>1507340000920377</td>\n",
       "      <td>2</td>\n",
       "      <td>313996</td>\n",
       "    </tr>\n",
       "    <tr>\n",
       "      <th>4</th>\n",
       "      <td>0</td>\n",
       "      <td>1507385847186982</td>\n",
       "      <td>2</td>\n",
       "      <td>160158</td>\n",
       "    </tr>\n",
       "  </tbody>\n",
       "</table>\n",
       "</div>"
      ],
      "text/plain": [
       "   user_id        session_id  session_size  click_article_id\n",
       "0        0  1506825423271737             2            157541\n",
       "1        0  1506825423271737             2             68866\n",
       "2        0  1507340000920377             2             96755\n",
       "3        0  1507340000920377             2            313996\n",
       "4        0  1507385847186982             2            160158"
      ]
     },
     "execution_count": 35,
     "metadata": {},
     "output_type": "execute_result"
    }
   ],
   "source": [
    "#df_min_clicks_clean = df_clicks[['user_id', 'session_id', 'session_size', 'click_article_id']]\n",
    "df_min_clicks_clean.head()"
   ]
  },
  {
   "cell_type": "code",
   "execution_count": 36,
   "metadata": {},
   "outputs": [
    {
     "data": {
      "text/html": [
       "<div>\n",
       "<style scoped>\n",
       "    .dataframe tbody tr th:only-of-type {\n",
       "        vertical-align: middle;\n",
       "    }\n",
       "\n",
       "    .dataframe tbody tr th {\n",
       "        vertical-align: top;\n",
       "    }\n",
       "\n",
       "    .dataframe thead th {\n",
       "        text-align: right;\n",
       "    }\n",
       "</style>\n",
       "<table border=\"1\" class=\"dataframe\">\n",
       "  <thead>\n",
       "    <tr style=\"text-align: right;\">\n",
       "      <th></th>\n",
       "      <th>click_article_id</th>\n",
       "    </tr>\n",
       "    <tr>\n",
       "      <th>user_id</th>\n",
       "      <th></th>\n",
       "    </tr>\n",
       "  </thead>\n",
       "  <tbody>\n",
       "    <tr>\n",
       "      <th>0</th>\n",
       "      <td>[157541, 68866, 96755, 313996, 160158, 233470,...</td>\n",
       "    </tr>\n",
       "    <tr>\n",
       "      <th>1</th>\n",
       "      <td>[235840, 96663, 59758, 160474, 285719, 156723,...</td>\n",
       "    </tr>\n",
       "    <tr>\n",
       "      <th>2</th>\n",
       "      <td>[119592, 30970, 30760, 209122]</td>\n",
       "    </tr>\n",
       "    <tr>\n",
       "      <th>3</th>\n",
       "      <td>[236065, 236294, 234686, 233769, 235665, 23513...</td>\n",
       "    </tr>\n",
       "    <tr>\n",
       "      <th>4</th>\n",
       "      <td>[48915, 44488, 195887, 195084, 63307, 336499, ...</td>\n",
       "    </tr>\n",
       "    <tr>\n",
       "      <th>5</th>\n",
       "      <td>[168868, 207122, 286413, 156543, 284664, 15667...</td>\n",
       "    </tr>\n",
       "    <tr>\n",
       "      <th>6</th>\n",
       "      <td>[202436, 288431, 160474, 59704, 162300, 166283...</td>\n",
       "    </tr>\n",
       "    <tr>\n",
       "      <th>7</th>\n",
       "      <td>[235840, 284847, 156624, 284547, 123757, 16862...</td>\n",
       "    </tr>\n",
       "    <tr>\n",
       "      <th>8</th>\n",
       "      <td>[332114, 284847, 114161, 272660, 273464, 31350...</td>\n",
       "    </tr>\n",
       "    <tr>\n",
       "      <th>9</th>\n",
       "      <td>[284346, 285412, 337143, 293513]</td>\n",
       "    </tr>\n",
       "  </tbody>\n",
       "</table>\n",
       "</div>"
      ],
      "text/plain": [
       "                                          click_article_id\n",
       "user_id                                                   \n",
       "0        [157541, 68866, 96755, 313996, 160158, 233470,...\n",
       "1        [235840, 96663, 59758, 160474, 285719, 156723,...\n",
       "2                           [119592, 30970, 30760, 209122]\n",
       "3        [236065, 236294, 234686, 233769, 235665, 23513...\n",
       "4        [48915, 44488, 195887, 195084, 63307, 336499, ...\n",
       "5        [168868, 207122, 286413, 156543, 284664, 15667...\n",
       "6        [202436, 288431, 160474, 59704, 162300, 166283...\n",
       "7        [235840, 284847, 156624, 284547, 123757, 16862...\n",
       "8        [332114, 284847, 114161, 272660, 273464, 31350...\n",
       "9                         [284346, 285412, 337143, 293513]"
      ]
     },
     "execution_count": 36,
     "metadata": {},
     "output_type": "execute_result"
    }
   ],
   "source": [
    "df_users = df_min_clicks_clean.groupby(by='user_id').agg({'click_article_id':lambda x: list(x)})\n",
    "df_users.head(10)"
   ]
  },
  {
   "cell_type": "code",
   "execution_count": 37,
   "metadata": {},
   "outputs": [
    {
     "data": {
      "text/plain": [
       "click_article_id    [119592, 30970, 30760, 209122]\n",
       "Name: 2, dtype: object"
      ]
     },
     "execution_count": 37,
     "metadata": {},
     "output_type": "execute_result"
    }
   ],
   "source": [
    "df_users.iloc[2]"
   ]
  },
  {
   "cell_type": "code",
   "execution_count": 38,
   "metadata": {},
   "outputs": [
    {
     "name": "stdout",
     "output_type": "stream",
     "text": [
      "<class 'pandas.core.frame.DataFrame'>\n",
      "Int64Index: 221469 entries, 0 to 322887\n",
      "Data columns (total 1 columns):\n",
      " #   Column            Non-Null Count   Dtype \n",
      "---  ------            --------------   ----- \n",
      " 0   click_article_id  221469 non-null  object\n",
      "dtypes: object(1)\n",
      "memory usage: 3.4+ MB\n"
     ]
    }
   ],
   "source": [
    "df_users.info()"
   ]
  },
  {
   "cell_type": "markdown",
   "metadata": {},
   "source": [
    "### Sauvegarde des fichiers pour le stockage Azure Blob"
   ]
  },
  {
   "cell_type": "code",
   "execution_count": 30,
   "metadata": {},
   "outputs": [],
   "source": [
    "# Sauvegarde des fichiers pour le stockage Azure Blob\n",
    "data_azure = 'data_azure'\n",
    "\n",
    "list_dir = os.listdir('data/')\n",
    "\n",
    "if data_azure not in list_dir:\n",
    "    os.mkdir('data/' + data_azure)\n",
    "\n",
    "df_articles_embed_pca.to_pickle('data/' + data_azure + '/articles_embeddings.pickle')\n",
    "df_min_clicks_clean.to_pickle('data/' + data_azure + '/all_clicks.pickle')\n",
    "df_users.to_pickle('data/' + data_azure + '/users.pickle')"
   ]
  },
  {
   "cell_type": "code",
   "execution_count": 39,
   "metadata": {},
   "outputs": [
    {
     "data": {
      "text/plain": [
       "221469"
      ]
     },
     "execution_count": 39,
     "metadata": {},
     "output_type": "execute_result"
    }
   ],
   "source": [
    "len(df_users)"
   ]
  },
  {
   "cell_type": "markdown",
   "metadata": {},
   "source": [
    "<div style=\"text-align:center\">\n",
    "<div style=\"background-color: #ff9233\">\n",
    "<div style = \"border: 3px orange groove\">\n",
    "<h1>\n",
    "<b>Filtrage basé sur le contenu</b><br>\n",
    "</h1>\n",
    "</div>\n",
    "</div>\n",
    "</div>"
   ]
  },
  {
   "cell_type": "markdown",
   "metadata": {},
   "source": [
    "# <span style='color:#DC6000 ' id=\"section_3\" >3. Content-Based Filtering, CBF</span>\n",
    "\n",
    "« Si Alice aime regarder le film Transformers, il semble pertinent de lui recommander le film Transformers 2 : La Revanche ou d’autres films du genre Science Fiction ».<br>\n",
    "**L’hypothèse sous-jacente est que les utilisateurs ont une forte probabilité d’aimer les items qui\n",
    "sont similaires à ceux qu’ils ont aimés auparavant, en termes de contenu.**<br>\n",
    "Les approches de CBF se focalisent sur les feedbacks individuels d’un seul utilisateur, i.e. celui pour qui on va faire des recommandations. En plus des\n",
    "retours de cet utilisateur cible, pour que les approches de CBF fonctionnent, **il est indispensable de disposer de données relatives aux contenus des items**. Ces dernières peuvent être des données de différents types, structurées ou non-structurées selon la source des données. <br><br>\n",
    "**Les recommandations faites sont donc basées sur <span style='color:#027C90'> les interactions Utilisateur-Articles `et` la similarité entre les contenus :**</span>\n",
    "- On détermine tout d'abord un profil utilisateur : on détermine les items aimés par l'utilisateur (les items avec lesquels il a intéragi).\n",
    "- On détermine les items similaires : on utilise pour cela une mesure de similarité.\n",
    "- On recommande à l'utilisateur les items similaires à ceux qu'il aime.<br>\n",
    "### `Utilisateur`: i.e. celui pour qui on va faire des recommandations.  [Source](https://theses.hal.science/tel-03611956)  "
   ]
  },
  {
   "cell_type": "markdown",
   "metadata": {},
   "source": [
    ">## <span style='color: #A000B6' id=\"section_3_1\" >3.1 Modèle basé sur la catégorie des articles</span>\n",
    "- Profil des utilisateurs : basé sur la catégorie préférée.\n",
    "- Similarité : basée sur la similarité des catégories des articles."
   ]
  },
  {
   "cell_type": "code",
   "execution_count": 51,
   "metadata": {},
   "outputs": [],
   "source": [
    "def popular_category(user_id):\n",
    "    populars_category = df_clicks_articles_clean[df_clicks_articles_clean['user_id']==user_id].groupby(['category_id']).size().sort_values(ascending=False).index[0]\n",
    "    return populars_category"
   ]
  },
  {
   "cell_type": "code",
   "execution_count": 52,
   "metadata": {},
   "outputs": [],
   "source": [
    "def popular_articles(category_id):\n",
    "    populars_articles = df_clicks_articles_clean[df_clicks_articles_clean['category_id']==category_id].groupby(['article_id']).size().sort_values(ascending=False).index.to_list()\n",
    "    return populars_articles"
   ]
  },
  {
   "cell_type": "code",
   "execution_count": 53,
   "metadata": {},
   "outputs": [],
   "source": [
    "def recommendations_category(user_id, top_n):\n",
    "    if user_id in df_clicks_articles_clean['user_id'].values:\n",
    "        populars_category = popular_category(user_id)\n",
    "        populars_articles = popular_articles(populars_category)\n",
    "        articles_readed = article_readed(user_id)    \n",
    "        popular_articles_for_category = [i for i in populars_articles if i not in set(articles_readed)]\n",
    "        top_n = popular_articles_for_category[:top_n]\n",
    "        return top_n"
   ]
  },
  {
   "cell_type": "code",
   "execution_count": 54,
   "metadata": {},
   "outputs": [
    {
     "name": "stdout",
     "output_type": "stream",
     "text": [
      "CPU times: user 54 ms, sys: 3.21 ms, total: 57.2 ms\n",
      "Wall time: 53.6 ms\n"
     ]
    },
    {
     "data": {
      "text/plain": [
       "[160974, 162655, 158536, 156560, 160417]"
      ]
     },
     "execution_count": 54,
     "metadata": {},
     "output_type": "execute_result"
    }
   ],
   "source": [
    "%%time\n",
    "recommendations_category(1, 5)"
   ]
  },
  {
   "cell_type": "markdown",
   "metadata": {},
   "source": [
    ">## <span style='color: #A000B6' id=\"section_3_2\" >3.2 Modèle basé sur la similarité entre les articles</span>\n",
    "- Profil des utilisateurs : basé sur le dernier article lu.\n",
    "- Similarité : basée sur la similarité des embeddings des articles (similarité cosinus sur les embeddings)."
   ]
  },
  {
   "cell_type": "code",
   "execution_count": 55,
   "metadata": {},
   "outputs": [],
   "source": [
    "ids_article_read = df_clicks_articles_clean['article_id'].unique()"
   ]
  },
  {
   "cell_type": "code",
   "execution_count": 56,
   "metadata": {},
   "outputs": [],
   "source": [
    "ids_article_read.sort()"
   ]
  },
  {
   "cell_type": "code",
   "execution_count": 57,
   "metadata": {},
   "outputs": [
    {
     "data": {
      "text/plain": [
       "array([     3,     27,     69, ..., 364028, 364043, 364046])"
      ]
     },
     "execution_count": 57,
     "metadata": {},
     "output_type": "execute_result"
    }
   ],
   "source": [
    "ids_article_read"
   ]
  },
  {
   "cell_type": "code",
   "execution_count": 58,
   "metadata": {},
   "outputs": [],
   "source": [
    "ids_article_read = ids_article_read.tolist()"
   ]
  },
  {
   "cell_type": "code",
   "execution_count": 59,
   "metadata": {},
   "outputs": [
    {
     "data": {
      "text/plain": [
       "46033"
      ]
     },
     "execution_count": 59,
     "metadata": {},
     "output_type": "execute_result"
    }
   ],
   "source": [
    "len(ids_article_read)"
   ]
  },
  {
   "cell_type": "markdown",
   "metadata": {},
   "source": [
    "### Cas d'embedding complet"
   ]
  },
  {
   "cell_type": "code",
   "execution_count": 60,
   "metadata": {},
   "outputs": [],
   "source": [
    "matrix_articles_read_embed = np.zeros(shape=(len(ids_article_read), matrix_articles_embeddings.shape[1]), dtype='float32')\n",
    "for i, j in enumerate(ids_article_read):    \n",
    "    matrix_articles_read_embed[i] = matrix_articles_embeddings[j]"
   ]
  },
  {
   "cell_type": "code",
   "execution_count": 61,
   "metadata": {},
   "outputs": [
    {
     "data": {
      "text/plain": [
       "array([[-0.7408434 , -0.97574896,  0.39169782, ..., -0.5378381 ,\n",
       "         0.24354108, -0.8853287 ],\n",
       "       [-0.7008142 , -0.9659266 , -0.1818693 , ..., -0.38887644,\n",
       "         0.6968653 , -0.5328732 ],\n",
       "       [ 0.09352145, -0.9814102 ,  0.848944  , ..., -0.8776516 ,\n",
       "         0.6435415 , -0.90809524],\n",
       "       ...,\n",
       "       [ 0.4905268 , -0.9776124 ,  0.8435827 , ..., -0.1542012 ,\n",
       "         0.06126442, -0.8052674 ],\n",
       "       [-0.13693178, -0.9954715 ,  0.99129796, ...,  0.9892977 ,\n",
       "        -0.7615948 , -0.41465205],\n",
       "       [-0.25713393, -0.9946313 ,  0.9837918 , ...,  0.98387307,\n",
       "        -0.8381829 , -0.1792827 ]], dtype=float32)"
      ]
     },
     "execution_count": 61,
     "metadata": {},
     "output_type": "execute_result"
    }
   ],
   "source": [
    "matrix_articles_read_embed"
   ]
  },
  {
   "cell_type": "code",
   "execution_count": 62,
   "metadata": {},
   "outputs": [
    {
     "data": {
      "text/plain": [
       "(46033, 250)"
      ]
     },
     "execution_count": 62,
     "metadata": {},
     "output_type": "execute_result"
    }
   ],
   "source": [
    "matrix_articles_read_embed.shape"
   ]
  },
  {
   "cell_type": "code",
   "execution_count": 63,
   "metadata": {},
   "outputs": [],
   "source": [
    "def get_articles_cosine_similarities_matrix(matrix = matrix_articles_embeddings):\n",
    "    cosine_similarities_matrix = cosine_similarity(matrix, matrix)\n",
    "    return cosine_similarities_matrix"
   ]
  },
  {
   "cell_type": "code",
   "execution_count": 64,
   "metadata": {},
   "outputs": [
    {
     "data": {
      "text/plain": [
       "array([[ 1.        ,  0.5577955 ,  0.5671755 , ...,  0.37560737,\n",
       "        -0.058838  , -0.05343878],\n",
       "       [ 0.5577955 ,  0.99999964,  0.48979896, ...,  0.00167873,\n",
       "         0.07056357,  0.03583696],\n",
       "       [ 0.5671755 ,  0.48979896,  1.0000004 , ...,  0.4681621 ,\n",
       "         0.1401566 ,  0.08559375],\n",
       "       ...,\n",
       "       [ 0.37560737,  0.00167873,  0.4681621 , ...,  1.        ,\n",
       "         0.29515693,  0.29405683],\n",
       "       [-0.058838  ,  0.07056357,  0.1401566 , ...,  0.29515693,\n",
       "         1.0000001 ,  0.9569371 ],\n",
       "       [-0.05343878,  0.03583696,  0.08559375, ...,  0.29405683,\n",
       "         0.9569371 ,  0.9999997 ]], dtype=float32)"
      ]
     },
     "execution_count": 64,
     "metadata": {},
     "output_type": "execute_result"
    }
   ],
   "source": [
    "cosine_similarities_matrix = get_articles_cosine_similarities_matrix(matrix_articles_read_embed)\n",
    "cosine_similarities_matrix"
   ]
  },
  {
   "cell_type": "code",
   "execution_count": 65,
   "metadata": {},
   "outputs": [
    {
     "data": {
      "text/plain": [
       "(46033, 46033)"
      ]
     },
     "execution_count": 65,
     "metadata": {},
     "output_type": "execute_result"
    }
   ],
   "source": [
    "cosine_similarities_matrix.shape"
   ]
  },
  {
   "cell_type": "code",
   "execution_count": 66,
   "metadata": {},
   "outputs": [],
   "source": [
    "def get_similar_articles(cos_sim_matrix, article_id):\n",
    "    \n",
    "    ids = []\n",
    "    scores = []\n",
    "    article_index_id = np.where(ids_article_read==article_id)\n",
    "    for i in range(len(cos_sim_matrix)):\n",
    "        ids.append(ids_article_read[i])\n",
    "        scores.append(cos_sim_matrix[i][article_index_id])\n",
    "\n",
    "    df_ids_scores = pd.DataFrame(list(zip(ids, scores)), columns=['id', 'score'])    \n",
    "    df_ids_scores_sorted = df_ids_scores.sort_values(by=['score'], axis=0, ascending=False)\n",
    "    similar_articles = df_ids_scores_sorted['id'].to_list()\n",
    "    \n",
    "    return similar_articles"
   ]
  },
  {
   "cell_type": "code",
   "execution_count": 67,
   "metadata": {},
   "outputs": [],
   "source": [
    "def get_last_article_read(user_id):\n",
    "    last_article_id = int(df_clicks_articles_clean[df_clicks_articles_clean['user_id']==user_id]['article_id'].iloc[-1])\n",
    "    return last_article_id"
   ]
  },
  {
   "cell_type": "code",
   "execution_count": 68,
   "metadata": {},
   "outputs": [],
   "source": [
    "def get_recommendations_articles_similarities(user_id, top_n, matrix_cos_sim):\n",
    "    if user_id in df_clicks_articles_clean['user_id'].values:\n",
    "        last_article_id = get_last_article_read(user_id)\n",
    "        similar_articles = get_similar_articles(matrix_cos_sim, last_article_id)\n",
    "        articles_already_read_for_user = article_readed(user_id)\n",
    "        similar_articles_not_already_read = [i for i in similar_articles if i not in set(articles_already_read_for_user)]\n",
    "        top_n_similar_articles_not_already_read = similar_articles_not_already_read[:top_n]\n",
    "        \n",
    "        return top_n_similar_articles_not_already_read\n",
    "    else:\n",
    "        print(\"Error : User does not exist or user with not enough historic\")"
   ]
  },
  {
   "cell_type": "code",
   "execution_count": 69,
   "metadata": {},
   "outputs": [
    {
     "name": "stdout",
     "output_type": "stream",
     "text": [
      "CPU times: user 2.14 s, sys: 76.4 ms, total: 2.22 s\n",
      "Wall time: 2.4 s\n"
     ]
    },
    {
     "data": {
      "text/plain": [
       "[3, 232229, 232012, 232039, 232040]"
      ]
     },
     "execution_count": 69,
     "metadata": {},
     "output_type": "execute_result"
    }
   ],
   "source": [
    "%%time\n",
    "get_recommendations_articles_similarities(1, 5, cosine_similarities_matrix)"
   ]
  },
  {
   "cell_type": "markdown",
   "metadata": {},
   "source": [
    "### Cas d'embedding réduit avec l'ACP"
   ]
  },
  {
   "cell_type": "code",
   "execution_count": 70,
   "metadata": {},
   "outputs": [],
   "source": [
    "matrix_articles_read_embed_pca = np.zeros(shape=(len(ids_article_read), matrix_articles_embed_pca.shape[1]), dtype='float32')\n",
    "for i, j in enumerate(ids_article_read):    \n",
    "    matrix_articles_read_embed_pca[i] = matrix_articles_embed_pca[j]"
   ]
  },
  {
   "cell_type": "code",
   "execution_count": 71,
   "metadata": {},
   "outputs": [
    {
     "data": {
      "text/plain": [
       "(46033, 70)"
      ]
     },
     "execution_count": 71,
     "metadata": {},
     "output_type": "execute_result"
    }
   ],
   "source": [
    "matrix_articles_read_embed_pca.shape"
   ]
  },
  {
   "cell_type": "code",
   "execution_count": 72,
   "metadata": {},
   "outputs": [
    {
     "data": {
      "text/plain": [
       "array([[ 1.        ,  0.4618427 ,  0.49625087, ...,  0.26045015,\n",
       "        -0.24512944, -0.23412353],\n",
       "       [ 0.4618427 ,  1.        ,  0.41287193, ..., -0.18567862,\n",
       "        -0.07340547, -0.11248922],\n",
       "       [ 0.49625087,  0.41287193,  1.        , ...,  0.4116183 ,\n",
       "         0.04728912, -0.013736  ],\n",
       "       ...,\n",
       "       [ 0.26045015, -0.18567862,  0.4116183 , ...,  1.0000002 ,\n",
       "         0.22243187,  0.22315258],\n",
       "       [-0.24512944, -0.07340547,  0.04728912, ...,  0.22243187,\n",
       "         1.0000001 ,  0.9557088 ],\n",
       "       [-0.23412353, -0.11248922, -0.013736  , ...,  0.22315258,\n",
       "         0.9557088 ,  0.9999999 ]], dtype=float32)"
      ]
     },
     "execution_count": 72,
     "metadata": {},
     "output_type": "execute_result"
    }
   ],
   "source": [
    "cosine_similarities_matrix_pca = get_articles_cosine_similarities_matrix(matrix_articles_read_embed_pca)\n",
    "cosine_similarities_matrix_pca"
   ]
  },
  {
   "cell_type": "code",
   "execution_count": 73,
   "metadata": {},
   "outputs": [
    {
     "data": {
      "text/plain": [
       "(46033, 46033)"
      ]
     },
     "execution_count": 73,
     "metadata": {},
     "output_type": "execute_result"
    }
   ],
   "source": [
    "cosine_similarities_matrix_pca.shape"
   ]
  },
  {
   "cell_type": "code",
   "execution_count": 74,
   "metadata": {},
   "outputs": [
    {
     "name": "stdout",
     "output_type": "stream",
     "text": [
      "CPU times: user 2.02 s, sys: 86.3 ms, total: 2.11 s\n",
      "Wall time: 2.31 s\n"
     ]
    },
    {
     "data": {
      "text/plain": [
       "[3, 232229, 232012, 232039, 232040]"
      ]
     },
     "execution_count": 74,
     "metadata": {},
     "output_type": "execute_result"
    }
   ],
   "source": [
    "%%time\n",
    "get_recommendations_articles_similarities(1, 5, cosine_similarities_matrix_pca)"
   ]
  },
  {
   "cell_type": "markdown",
   "metadata": {},
   "source": [
    "Le modèle utilise le calcul du cosinus entre les articles lus par l'utilisateur et les autres articles, qui sont projetés via leurs features de la matrice d'embedding dans un espace vectoriel.\n",
    "La recommandation retourne N articles les plus similaies, ici N=5.\n",
    "\n",
    "#### Nous constatons que le top-5 recommandations sont identiques que l'on utilise la matrice d'embedding originale ou la matrice d'embedding réduite via l'ACP."
   ]
  },
  {
   "cell_type": "markdown",
   "metadata": {},
   "source": [
    "<div style=\"text-align:center\">\n",
    "<div style=\"background-color: #ff9233\">\n",
    "<div style = \"border: 3px orange groove\">\n",
    "<h1>\n",
    "<b>Filtrage collaboratif</b><br>\n",
    "</h1>\n",
    "</div>\n",
    "</div>\n",
    "</div>"
   ]
  },
  {
   "cell_type": "markdown",
   "metadata": {},
   "source": [
    "# <span style='color:#DC6000 ' id=\"section_4\" >4. Collaborative-based Filtering</span>\n",
    "Les systèmes basés sur le filtrage collaboratif produisent des recommandations en calculant la similarité entre les préférences d’un utilisateur et celles d’autres utilisateurs. De tels systèmes ne tentent pas d’analyser ou de comprendre le contenu des éléments à recommander.<br>\n",
    "La méthode consiste à faire des prévisions automatiques sur les intérêts d’un utilisateur en collectant des avis de nombreux utilisateurs. L’hypothèse sous-jacente de cette approche est que ceux qui ont aimé un élément spécifique dans le passé auront tendance à aimer cet élément spécifique, ou un autre très « proche », à nouveau dans l’avenir.<br>\n",
    "**Les recommandations faites sont donc basées sur  <span style='color:#027C90'>les interactions utilisateurs-articles `et` la similarité entre les utilisateurs </span>**. <br>\n",
    "Il existe 2 familles :\n",
    ">- Recommandations **'Model based'**\n",
    ">- Recommandations **'Memory based'**\n",
    "\n",
    "[Lien utile : créer un filtre collaboratif pour le moteur de recommandation](https://realpython.com/build-recommendation-engine-collaborative-filtering/)"
   ]
  },
  {
   "cell_type": "markdown",
   "metadata": {},
   "source": [
    "### Utilisation de la librairie Implicit\n",
    "- Nous avons utilisé pour implémenter ces modèles la librairie **Implicit**.\n",
    "- C'est une librairie spécialisée pour les Dataset avec des ratings implicites comme c'est notre cas ici."
   ]
  },
  {
   "cell_type": "markdown",
   "metadata": {},
   "source": [
    "## <span style='color:#A000B6 ' id=\"section_4_1\" >4.1 Préparation des données</span>"
   ]
  },
  {
   "cell_type": "markdown",
   "metadata": {},
   "source": [
    "#### Pour les systèmes de recommandation, il y a 2 types de `ratings` :\n",
    "- Ratings **explicites** : les utilisateurs mettent des notes aux items en fonction de leur satisfaction, par exemple une note sur 5.\n",
    "- Ratings **implicites** : on utilise les interactions des utilisateurs avec les items, par exemple le nombre de clicks.<br><br>\n",
    "Ces ratings permettent de voir quels sont les items appréciés des utilisateurs et ainsi de dégager leur profil. Ce profil sera utilisé pour leur recommander d'autres articles.<br>\n",
    "<font color=#5D2F18>**Dans notre cas, nous avons à faire à des ratings implicites : ce sont les interations des utilisateurs avec les articles** </font>"
   ]
  },
  {
   "cell_type": "markdown",
   "metadata": {},
   "source": [
    ">## <font color=#1800C8 >Création de `Implicit Ratings`</font>"
   ]
  },
  {
   "cell_type": "code",
   "execution_count": 109,
   "metadata": {},
   "outputs": [
    {
     "data": {
      "text/plain": [
       "(2747854, 3)"
      ]
     },
     "execution_count": 109,
     "metadata": {},
     "output_type": "execute_result"
    }
   ],
   "source": [
    "ratings = (\n",
    "    df_min_clicks_clean.reset_index()\n",
    "    .groupby([\"user_id\", \"click_article_id\"])\n",
    "    .agg(rating=(\"index\", \"count\"),)\n",
    "    .reset_index()\n",
    ")\n",
    "ratings.shape"
   ]
  },
  {
   "cell_type": "code",
   "execution_count": 110,
   "metadata": {},
   "outputs": [
    {
     "name": "stdout",
     "output_type": "stream",
     "text": [
      "[1, 2, 3, 4, 5, 6, 7, 8, 9, 10, 12, 13, 16, 17, 30, 31, 33]\n"
     ]
    }
   ],
   "source": [
    "print(sorted(ratings.rating.unique()))"
   ]
  },
  {
   "cell_type": "code",
   "execution_count": 111,
   "metadata": {},
   "outputs": [
    {
     "data": {
      "text/html": [
       "<div>\n",
       "<style scoped>\n",
       "    .dataframe tbody tr th:only-of-type {\n",
       "        vertical-align: middle;\n",
       "    }\n",
       "\n",
       "    .dataframe tbody tr th {\n",
       "        vertical-align: top;\n",
       "    }\n",
       "\n",
       "    .dataframe thead th {\n",
       "        text-align: right;\n",
       "    }\n",
       "</style>\n",
       "<table border=\"1\" class=\"dataframe\">\n",
       "  <thead>\n",
       "    <tr style=\"text-align: right;\">\n",
       "      <th></th>\n",
       "      <th>user_id</th>\n",
       "      <th>click_article_id</th>\n",
       "      <th>rating</th>\n",
       "    </tr>\n",
       "  </thead>\n",
       "  <tbody>\n",
       "    <tr>\n",
       "      <th>0</th>\n",
       "      <td>0</td>\n",
       "      <td>68866</td>\n",
       "      <td>1</td>\n",
       "    </tr>\n",
       "    <tr>\n",
       "      <th>1</th>\n",
       "      <td>0</td>\n",
       "      <td>87205</td>\n",
       "      <td>1</td>\n",
       "    </tr>\n",
       "    <tr>\n",
       "      <th>2</th>\n",
       "      <td>0</td>\n",
       "      <td>87224</td>\n",
       "      <td>1</td>\n",
       "    </tr>\n",
       "    <tr>\n",
       "      <th>3</th>\n",
       "      <td>0</td>\n",
       "      <td>96755</td>\n",
       "      <td>1</td>\n",
       "    </tr>\n",
       "    <tr>\n",
       "      <th>4</th>\n",
       "      <td>0</td>\n",
       "      <td>157541</td>\n",
       "      <td>1</td>\n",
       "    </tr>\n",
       "  </tbody>\n",
       "</table>\n",
       "</div>"
      ],
      "text/plain": [
       "   user_id  click_article_id  rating\n",
       "0        0             68866       1\n",
       "1        0             87205       1\n",
       "2        0             87224       1\n",
       "3        0             96755       1\n",
       "4        0            157541       1"
      ]
     },
     "execution_count": 111,
     "metadata": {},
     "output_type": "execute_result"
    }
   ],
   "source": [
    "ratings.head()"
   ]
  },
  {
   "cell_type": "code",
   "execution_count": 112,
   "metadata": {},
   "outputs": [],
   "source": [
    "ratings['user_id'] = ratings['user_id'].astype(\"category\")\n",
    "ratings['click_article_id'] = ratings['click_article_id'].astype(\"category\")\n",
    "#ratings['user_num'] = ratings['user_id'].cat.codes\n",
    "#ratings['article_num'] = ratings['click_article_id'].cat.codes"
   ]
  },
  {
   "cell_type": "code",
   "execution_count": 113,
   "metadata": {},
   "outputs": [],
   "source": [
    "df_min_clicks_clean_sample = df_min_clicks_clean.sample(frac=0.1, random_state=42)"
   ]
  },
  {
   "cell_type": "markdown",
   "metadata": {},
   "source": [
    ">## <font color=#1800C8 >Création de `Implicit Ratings CSR Matrix`</font>"
   ]
  },
  {
   "cell_type": "code",
   "execution_count": 114,
   "metadata": {},
   "outputs": [
    {
     "data": {
      "text/plain": [
       "(322888, 364047)"
      ]
     },
     "execution_count": 114,
     "metadata": {},
     "output_type": "execute_result"
    }
   ],
   "source": [
    "ratings_sparse = csr_matrix(\n",
    "    (\n",
    "        ratings[\"rating\"],\n",
    "        (ratings[\"user_id\"].astype(\"int\"), ratings[\"click_article_id\"].astype(\"int\")),\n",
    "    ),\n",
    ")\n",
    "ratings_sparse.shape"
   ]
  },
  {
   "cell_type": "code",
   "execution_count": 115,
   "metadata": {},
   "outputs": [
    {
     "data": {
      "text/plain": [
       "scipy.sparse._csr.csr_matrix"
      ]
     },
     "execution_count": 115,
     "metadata": {},
     "output_type": "execute_result"
    }
   ],
   "source": [
    "type(ratings_sparse)"
   ]
  },
  {
   "cell_type": "code",
   "execution_count": 116,
   "metadata": {},
   "outputs": [],
   "source": [
    "# Sauvegade de la matrice\n",
    "sparse.save_npz(\"ratings_sparse.npz\", ratings_sparse)"
   ]
  },
  {
   "cell_type": "markdown",
   "metadata": {},
   "source": [
    ">## <font color=#1800C8 >Séparation des données</font>\n",
    "- On sépare le jeu de données en 2 jeux différents :\n",
    "    - Un **jeu d'entrainement** qui servira à **entrainer les modèles**.\n",
    "    - Un **jeu de test** qui servira à **évaluer les modèles**.\n",
    "   \n",
    "**Nous avons bien été très attentifs à ne pas toucher le jeu de données de test afin qu'il n'y ait pas de fuite de données.**"
   ]
  },
  {
   "cell_type": "code",
   "execution_count": 117,
   "metadata": {},
   "outputs": [],
   "source": [
    "train_set, test_set = train_test_split(ratings_sparse, train_percentage=0.8, random_state=None)"
   ]
  },
  {
   "cell_type": "code",
   "execution_count": 118,
   "metadata": {},
   "outputs": [
    {
     "data": {
      "text/plain": [
       "(322888, 364047)"
      ]
     },
     "execution_count": 118,
     "metadata": {},
     "output_type": "execute_result"
    }
   ],
   "source": [
    "train_set.shape"
   ]
  },
  {
   "cell_type": "code",
   "execution_count": 119,
   "metadata": {},
   "outputs": [
    {
     "data": {
      "text/plain": [
       "(322888, 364047)"
      ]
     },
     "execution_count": 119,
     "metadata": {},
     "output_type": "execute_result"
    }
   ],
   "source": [
    "test_set.shape"
   ]
  },
  {
   "cell_type": "markdown",
   "metadata": {},
   "source": [
    "## <span style='color:#A000B6 ' id=\"section_4_2\" >4.2 Model based</span>\n",
    "Ce sont des modèles basés sur des algorithmes de Machine Learning. Ils utilisent principalement des techniques de décomposition de Matrices. La décomposition de matrice permet de réduire la dimension du problème en trouvant les facteurs latents."
   ]
  },
  {
   "cell_type": "markdown",
   "metadata": {},
   "source": [
    ">## <font color=#1800C8 >a) Alternating Least Squares Model (CPU)</font>\n",
    "- Modèle de recommandation cherchant les facteurs latents en minimisant une fonction de coût des moindres carrés de façon alternative (alternance utilisateurs-facteurs et items-facteurs)"
   ]
  },
  {
   "cell_type": "code",
   "execution_count": 86,
   "metadata": {},
   "outputs": [],
   "source": [
    "def train_model(train_set, test_set, factors=20, iterations=20, regularization=0.01):\n",
    "    \"\"\" Train an ALS model with <<factors>> (embeddings dimension) \n",
    "    for <<iterations>> over matrices and validate with MAP@12\n",
    "    \"\"\"\n",
    "    # coo_train, csr_train, csr_val = matrices['coo_train'], matrices['csr_train'], matrices['csr_val']\n",
    "    \n",
    "    model = implicit.cpu.als.AlternatingLeastSquares(factors=factors, \n",
    "                                                 iterations=iterations, \n",
    "                                                 regularization=regularization, \n",
    "                                                 random_state=42)\n",
    "    model.fit(train_set, show_progress=False)\n",
    "    \n",
    "    # The MAPK by implicit doesn't allow to calculate allowing repeated items, which is the case.\n",
    "    # TODO: change MAP@12 to a library that allows repeated items in prediction\n",
    "    map12 = mean_average_precision_at_k(model, train_set, test_set, K=12, show_progress=False, num_threads=4)\n",
    "    print(f\"Factors: {factors:>3} - Iterations: {iterations:>2} - Regularization: {regularization:4.3f} ==> MAP@12: {map12:6.5f}\")\n",
    "    return map12"
   ]
  },
  {
   "cell_type": "code",
   "execution_count": 120,
   "metadata": {},
   "outputs": [
    {
     "name": "stdout",
     "output_type": "stream",
     "text": [
      "Factors:  10 - Iterations: 10 - Regularization: 0.010 ==> MAP@12: 0.07800\n",
      "Best MAP@12 found. Updating: {'factors': 10, 'iterations': 10, 'regularization': 0.01}\n",
      "Factors:  10 - Iterations: 20 - Regularization: 0.010 ==> MAP@12: 0.08001\n",
      "Best MAP@12 found. Updating: {'factors': 10, 'iterations': 20, 'regularization': 0.01}\n",
      "Factors:  10 - Iterations: 30 - Regularization: 0.010 ==> MAP@12: 0.08026\n",
      "Best MAP@12 found. Updating: {'factors': 10, 'iterations': 30, 'regularization': 0.01}\n",
      "Factors:  20 - Iterations: 10 - Regularization: 0.010 ==> MAP@12: 0.08494\n",
      "Best MAP@12 found. Updating: {'factors': 20, 'iterations': 10, 'regularization': 0.01}\n",
      "Factors:  20 - Iterations: 20 - Regularization: 0.010 ==> MAP@12: 0.08381\n",
      "Factors:  20 - Iterations: 30 - Regularization: 0.010 ==> MAP@12: 0.08380\n",
      "Factors:  30 - Iterations: 10 - Regularization: 0.010 ==> MAP@12: 0.08257\n",
      "Factors:  30 - Iterations: 20 - Regularization: 0.010 ==> MAP@12: 0.08342\n",
      "Factors:  30 - Iterations: 30 - Regularization: 0.010 ==> MAP@12: 0.08356\n",
      "CPU times: user 2h 28min 19s, sys: 1h 50min 47s, total: 4h 19min 7s\n",
      "Wall time: 23min 13s\n"
     ]
    }
   ],
   "source": [
    "%%time\n",
    "best_map12 = 0\n",
    "for factors in [10, 20, 30]:\n",
    "    for iterations in [10, 20, 30]:\n",
    "        for regularization in [0.01]:\n",
    "            map12 = train_model(train_set, test_set, factors, iterations, regularization)\n",
    "            if map12 > best_map12:\n",
    "                best_map12 = map12\n",
    "                best_params = {'factors': factors, 'iterations': iterations, 'regularization': regularization}\n",
    "                print(f\"Best MAP@12 found. Updating: {best_params}\")"
   ]
  },
  {
   "cell_type": "code",
   "execution_count": 121,
   "metadata": {},
   "outputs": [
    {
     "data": {
      "application/vnd.jupyter.widget-view+json": {
       "model_id": "087ae423061b4ea2b329200805b84a46",
       "version_major": 2,
       "version_minor": 0
      },
      "text/plain": [
       "  0%|          | 0/30 [00:00<?, ?it/s]"
      ]
     },
     "metadata": {},
     "output_type": "display_data"
    }
   ],
   "source": [
    "als_model = implicit.cpu.als.AlternatingLeastSquares(factors=20, \n",
    "                                                 iterations=30, \n",
    "                                                 regularization=0.01, \n",
    "                                                 random_state=42)\n",
    "als_model.fit(train_set, show_progress = True)"
   ]
  },
  {
   "cell_type": "code",
   "execution_count": 122,
   "metadata": {},
   "outputs": [
    {
     "data": {
      "application/vnd.jupyter.widget-view+json": {
       "model_id": "214cef5febd44295aa5da74d84276b9e",
       "version_major": 2,
       "version_minor": 0
      },
      "text/plain": [
       "  0%|          | 0/173302 [00:00<?, ?it/s]"
      ]
     },
     "metadata": {},
     "output_type": "display_data"
    }
   ],
   "source": [
    "als_result = ranking_metrics_at_k(als_model, train_set, test_set, K=10,\n",
    "                         show_progress=True, num_threads=1)"
   ]
  },
  {
   "cell_type": "code",
   "execution_count": 123,
   "metadata": {},
   "outputs": [
    {
     "data": {
      "text/plain": [
       "[20691, 293301, 234267, 313504, 59758]"
      ]
     },
     "execution_count": 123,
     "metadata": {},
     "output_type": "execute_result"
    }
   ],
   "source": [
    "als_model.recommend(16280, ratings_sparse[16280], N=5)[0].tolist()"
   ]
  },
  {
   "cell_type": "code",
   "execution_count": 124,
   "metadata": {
    "scrolled": true
   },
   "outputs": [],
   "source": [
    "bench = pd.DataFrame(columns=pd.DataFrame(als_result.items())[0])\n",
    "bench.index.name = 'Modèle'"
   ]
  },
  {
   "cell_type": "code",
   "execution_count": 125,
   "metadata": {},
   "outputs": [],
   "source": [
    "def append_result(model, result):\n",
    "    name = str(model).split(\" \")[0].split(\".\")[-1:][0]\n",
    "    bench.loc[name]= result.values()"
   ]
  },
  {
   "cell_type": "code",
   "execution_count": 127,
   "metadata": {},
   "outputs": [
    {
     "data": {
      "text/html": [
       "<div>\n",
       "<style scoped>\n",
       "    .dataframe tbody tr th:only-of-type {\n",
       "        vertical-align: middle;\n",
       "    }\n",
       "\n",
       "    .dataframe tbody tr th {\n",
       "        vertical-align: top;\n",
       "    }\n",
       "\n",
       "    .dataframe thead th {\n",
       "        text-align: right;\n",
       "    }\n",
       "</style>\n",
       "<table border=\"1\" class=\"dataframe\">\n",
       "  <thead>\n",
       "    <tr style=\"text-align: right;\">\n",
       "      <th></th>\n",
       "      <th>precision</th>\n",
       "      <th>map</th>\n",
       "      <th>ndcg</th>\n",
       "      <th>auc</th>\n",
       "    </tr>\n",
       "    <tr>\n",
       "      <th>Modèle</th>\n",
       "      <th></th>\n",
       "      <th></th>\n",
       "      <th></th>\n",
       "      <th></th>\n",
       "    </tr>\n",
       "  </thead>\n",
       "  <tbody>\n",
       "    <tr>\n",
       "      <th>AlternatingLeastSquares</th>\n",
       "      <td>0.157191</td>\n",
       "      <td>0.082075</td>\n",
       "      <td>0.128523</td>\n",
       "      <td>0.593641</td>\n",
       "    </tr>\n",
       "  </tbody>\n",
       "</table>\n",
       "</div>"
      ],
      "text/plain": [
       "0                        precision       map      ndcg       auc\n",
       "Modèle                                                          \n",
       "AlternatingLeastSquares   0.157191  0.082075  0.128523  0.593641"
      ]
     },
     "execution_count": 127,
     "metadata": {},
     "output_type": "execute_result"
    }
   ],
   "source": [
    "append_result(als_model, als_result)\n",
    "bench"
   ]
  },
  {
   "cell_type": "code",
   "execution_count": 128,
   "metadata": {},
   "outputs": [
    {
     "data": {
      "text/plain": [
       "scipy.sparse._csr.csr_matrix"
      ]
     },
     "execution_count": 128,
     "metadata": {},
     "output_type": "execute_result"
    }
   ],
   "source": [
    "type(train_set)"
   ]
  },
  {
   "cell_type": "markdown",
   "metadata": {},
   "source": [
    "#### Les meilleurs paramètres : Factors:  20 - Iterations: 30 - Regularization: 0.010 ==> MAP@12: 0.09553"
   ]
  },
  {
   "cell_type": "markdown",
   "metadata": {},
   "source": [
    ">## <font color=#1800C8 >b) Bayesian Personalized Ranking Model (CPU)</font>\n",
    "- Modèle de recommandation basé sur une analyse Bayésienne du problème et consistant à optimiser l'estimateur du maximum à posteriori."
   ]
  },
  {
   "cell_type": "code",
   "execution_count": 129,
   "metadata": {},
   "outputs": [],
   "source": [
    "def train_bpr_model(train_set, test_set, factors=20, iterations=20, regularization=0.01):\n",
    "    \"\"\" Train an ALS model with <<factors>> (embeddings dimension) \n",
    "    for <<iterations>> over matrices and validate with MAP@12\n",
    "    \"\"\"\n",
    "    # coo_train, csr_train, csr_val = matrices['coo_train'], matrices['csr_train'], matrices['csr_val']\n",
    "    \n",
    "    model = implicit.cpu.bpr.BayesianPersonalizedRanking(factors=factors, \n",
    "                                                 iterations=iterations, \n",
    "                                                 regularization=regularization, \n",
    "                                                 random_state=42)\n",
    "    model.fit(train_set, show_progress=False)\n",
    "    \n",
    "    # The MAPK by implicit doesn't allow to calculate allowing repeated items, which is the case.\n",
    "    # TODO: change MAP@12 to a library that allows repeated items in prediction\n",
    "    map12 = mean_average_precision_at_k(model, train_set, test_set, K=12, show_progress=False, num_threads=4)\n",
    "    print(f\"Factors: {factors:>3} - Iterations: {iterations:>2} - Regularization: {regularization:4.3f} ==> MAP@12: {map12:6.5f}\")\n",
    "    return map12"
   ]
  },
  {
   "cell_type": "code",
   "execution_count": 130,
   "metadata": {},
   "outputs": [
    {
     "name": "stdout",
     "output_type": "stream",
     "text": [
      "Factors:  50 - Iterations: 50 - Regularization: 0.010 ==> MAP@12: 0.05997\n",
      "Best MAP@12 found. Updating: {'factors': 50, 'iterations': 50, 'regularization': 0.01}\n",
      "Factors:  50 - Iterations: 100 - Regularization: 0.010 ==> MAP@12: 0.06810\n",
      "Best MAP@12 found. Updating: {'factors': 50, 'iterations': 100, 'regularization': 0.01}\n",
      "Factors:  50 - Iterations: 150 - Regularization: 0.010 ==> MAP@12: 0.06831\n",
      "Best MAP@12 found. Updating: {'factors': 50, 'iterations': 150, 'regularization': 0.01}\n",
      "Factors:  50 - Iterations: 200 - Regularization: 0.010 ==> MAP@12: 0.06894\n",
      "Best MAP@12 found. Updating: {'factors': 50, 'iterations': 200, 'regularization': 0.01}\n",
      "Factors: 100 - Iterations: 50 - Regularization: 0.010 ==> MAP@12: 0.06072\n",
      "Factors: 100 - Iterations: 100 - Regularization: 0.010 ==> MAP@12: 0.06847\n",
      "Factors: 100 - Iterations: 150 - Regularization: 0.010 ==> MAP@12: 0.06967\n",
      "Best MAP@12 found. Updating: {'factors': 100, 'iterations': 150, 'regularization': 0.01}\n",
      "Factors: 100 - Iterations: 200 - Regularization: 0.010 ==> MAP@12: 0.07120\n",
      "Best MAP@12 found. Updating: {'factors': 100, 'iterations': 200, 'regularization': 0.01}\n",
      "Factors: 150 - Iterations: 50 - Regularization: 0.010 ==> MAP@12: 0.05842\n",
      "Factors: 150 - Iterations: 100 - Regularization: 0.010 ==> MAP@12: 0.06821\n",
      "Factors: 150 - Iterations: 150 - Regularization: 0.010 ==> MAP@12: 0.06901\n",
      "Factors: 150 - Iterations: 200 - Regularization: 0.010 ==> MAP@12: 0.07150\n",
      "Best MAP@12 found. Updating: {'factors': 150, 'iterations': 200, 'regularization': 0.01}\n",
      "CPU times: user 4h 32min 48s, sys: 1h 57min 20s, total: 6h 30min 8s\n",
      "Wall time: 33min 53s\n"
     ]
    }
   ],
   "source": [
    "%%time\n",
    "best_map12 = 0\n",
    "for factors in [50, 100, 150]:\n",
    "    for iterations in [50, 100, 150, 200]:\n",
    "        for regularization in [0.01]:\n",
    "            map12 = train_bpr_model(train_set, test_set, factors, iterations, regularization)\n",
    "            if map12 > best_map12:\n",
    "                best_map12 = map12\n",
    "                best_params = {'factors': factors, 'iterations': iterations, 'regularization': regularization}\n",
    "                print(f\"Best MAP@12 found. Updating: {best_params}\")"
   ]
  },
  {
   "cell_type": "code",
   "execution_count": 131,
   "metadata": {
    "scrolled": true
   },
   "outputs": [
    {
     "data": {
      "application/vnd.jupyter.widget-view+json": {
       "model_id": "ff4546b46fa84e3c9dd2e6081cc07a5c",
       "version_major": 2,
       "version_minor": 0
      },
      "text/plain": [
       "  0%|          | 0/200 [00:00<?, ?it/s]"
      ]
     },
     "metadata": {},
     "output_type": "display_data"
    }
   ],
   "source": [
    "bpr_model = implicit.cpu.bpr.BayesianPersonalizedRanking(factors=100, \n",
    "                                                 iterations=200, \n",
    "                                                 regularization=0.01, \n",
    "                                                 random_state=42)\n",
    "bpr_model.fit(train_set, show_progress = True)"
   ]
  },
  {
   "cell_type": "code",
   "execution_count": 132,
   "metadata": {},
   "outputs": [
    {
     "data": {
      "text/plain": [
       "[30336, 234047, 234267, 118784, 96986]"
      ]
     },
     "execution_count": 132,
     "metadata": {},
     "output_type": "execute_result"
    }
   ],
   "source": [
    "bpr_model.recommend(16280, ratings_sparse[16280], N=5)[0].tolist()"
   ]
  },
  {
   "cell_type": "code",
   "execution_count": 133,
   "metadata": {},
   "outputs": [
    {
     "data": {
      "application/vnd.jupyter.widget-view+json": {
       "model_id": "6f0bd1141f8248dbba7d7cefa0596273",
       "version_major": 2,
       "version_minor": 0
      },
      "text/plain": [
       "  0%|          | 0/173302 [00:00<?, ?it/s]"
      ]
     },
     "metadata": {},
     "output_type": "display_data"
    },
    {
     "data": {
      "text/html": [
       "<div>\n",
       "<style scoped>\n",
       "    .dataframe tbody tr th:only-of-type {\n",
       "        vertical-align: middle;\n",
       "    }\n",
       "\n",
       "    .dataframe tbody tr th {\n",
       "        vertical-align: top;\n",
       "    }\n",
       "\n",
       "    .dataframe thead th {\n",
       "        text-align: right;\n",
       "    }\n",
       "</style>\n",
       "<table border=\"1\" class=\"dataframe\">\n",
       "  <thead>\n",
       "    <tr style=\"text-align: right;\">\n",
       "      <th></th>\n",
       "      <th>precision</th>\n",
       "      <th>map</th>\n",
       "      <th>ndcg</th>\n",
       "      <th>auc</th>\n",
       "    </tr>\n",
       "    <tr>\n",
       "      <th>Modèle</th>\n",
       "      <th></th>\n",
       "      <th></th>\n",
       "      <th></th>\n",
       "      <th></th>\n",
       "    </tr>\n",
       "  </thead>\n",
       "  <tbody>\n",
       "    <tr>\n",
       "      <th>AlternatingLeastSquares</th>\n",
       "      <td>0.157191</td>\n",
       "      <td>0.082075</td>\n",
       "      <td>0.128523</td>\n",
       "      <td>0.593641</td>\n",
       "    </tr>\n",
       "    <tr>\n",
       "      <th>BayesianPersonalizedRanking</th>\n",
       "      <td>0.112522</td>\n",
       "      <td>0.069736</td>\n",
       "      <td>0.104425</td>\n",
       "      <td>0.577549</td>\n",
       "    </tr>\n",
       "  </tbody>\n",
       "</table>\n",
       "</div>"
      ],
      "text/plain": [
       "0                            precision       map      ndcg       auc\n",
       "Modèle                                                              \n",
       "AlternatingLeastSquares       0.157191  0.082075  0.128523  0.593641\n",
       "BayesianPersonalizedRanking   0.112522  0.069736  0.104425  0.577549"
      ]
     },
     "execution_count": 133,
     "metadata": {},
     "output_type": "execute_result"
    }
   ],
   "source": [
    "bpr_result = ranking_metrics_at_k(bpr_model, train_set, test_set, K=10, num_threads=1)\n",
    "append_result(bpr_model, bpr_result)\n",
    "bench"
   ]
  },
  {
   "cell_type": "markdown",
   "metadata": {},
   "source": [
    ">## <font color=#1800C8 >c) Logistic Matrix Factorization Mode</font>\n",
    "- Modèle de recommandation basé sur une approche probabiliste dans laquelle la préférence d'un utilisateur est modélisée par une fonction logistique."
   ]
  },
  {
   "cell_type": "code",
   "execution_count": 134,
   "metadata": {},
   "outputs": [],
   "source": [
    "def train_lmf_model(train_set, test_set, factors=20, iterations=20, regularization=0.01):\n",
    "    \"\"\" Train an ALS model with <<factors>> (embeddings dimension) \n",
    "    for <<iterations>> over matrices and validate with MAP@12\n",
    "    \"\"\"\n",
    "    # coo_train, csr_train, csr_val = matrices['coo_train'], matrices['csr_train'], matrices['csr_val']\n",
    "    \n",
    "    model = implicit.cpu.lmf.LogisticMatrixFactorization(factors=factors, \n",
    "                                                 iterations=iterations, \n",
    "                                                 regularization=regularization, \n",
    "                                                 random_state=42)\n",
    "    model.fit(train_set, show_progress=False)\n",
    "    \n",
    "    # The MAPK by implicit doesn't allow to calculate allowing repeated items, which is the case.\n",
    "    # TODO: change MAP@12 to a library that allows repeated items in prediction\n",
    "    map12 = mean_average_precision_at_k(model, train_set, test_set, K=12, show_progress=False, num_threads=4)\n",
    "    print(f\"Factors: {factors:>3} - Iterations: {iterations:>2} - Regularization: {regularization:4.3f} ==> MAP@12: {map12:6.5f}\")\n",
    "    return map12"
   ]
  },
  {
   "cell_type": "code",
   "execution_count": 135,
   "metadata": {},
   "outputs": [
    {
     "name": "stdout",
     "output_type": "stream",
     "text": [
      "Factors:  20 - Iterations: 20 - Regularization: 0.010 ==> MAP@12: 0.00826\n",
      "Best MAP@12 found. Updating: {'factors': 20, 'iterations': 20, 'regularization': 0.01}\n",
      "Factors:  20 - Iterations: 30 - Regularization: 0.010 ==> MAP@12: 0.00931\n",
      "Best MAP@12 found. Updating: {'factors': 20, 'iterations': 30, 'regularization': 0.01}\n",
      "Factors:  20 - Iterations: 50 - Regularization: 0.010 ==> MAP@12: 0.01149\n",
      "Best MAP@12 found. Updating: {'factors': 20, 'iterations': 50, 'regularization': 0.01}\n",
      "Factors:  20 - Iterations: 100 - Regularization: 0.010 ==> MAP@12: 0.01358\n",
      "Best MAP@12 found. Updating: {'factors': 20, 'iterations': 100, 'regularization': 0.01}\n",
      "Factors:  20 - Iterations: 150 - Regularization: 0.010 ==> MAP@12: 0.01461\n",
      "Best MAP@12 found. Updating: {'factors': 20, 'iterations': 150, 'regularization': 0.01}\n",
      "Factors:  30 - Iterations: 20 - Regularization: 0.010 ==> MAP@12: 0.00457\n",
      "Factors:  30 - Iterations: 30 - Regularization: 0.010 ==> MAP@12: 0.00947\n",
      "Factors:  30 - Iterations: 50 - Regularization: 0.010 ==> MAP@12: 0.01217\n",
      "Factors:  30 - Iterations: 100 - Regularization: 0.010 ==> MAP@12: 0.01437\n",
      "Factors:  30 - Iterations: 150 - Regularization: 0.010 ==> MAP@12: 0.01538\n",
      "Best MAP@12 found. Updating: {'factors': 30, 'iterations': 150, 'regularization': 0.01}\n",
      "Factors:  50 - Iterations: 20 - Regularization: 0.010 ==> MAP@12: 0.00226\n",
      "Factors:  50 - Iterations: 30 - Regularization: 0.010 ==> MAP@12: 0.00588\n",
      "Factors:  50 - Iterations: 50 - Regularization: 0.010 ==> MAP@12: 0.00933\n",
      "Factors:  50 - Iterations: 100 - Regularization: 0.010 ==> MAP@12: 0.01306\n",
      "Factors:  50 - Iterations: 150 - Regularization: 0.010 ==> MAP@12: 0.01467\n",
      "Factors: 100 - Iterations: 20 - Regularization: 0.010 ==> MAP@12: 0.00213\n",
      "Factors: 100 - Iterations: 30 - Regularization: 0.010 ==> MAP@12: 0.00168\n",
      "Factors: 100 - Iterations: 50 - Regularization: 0.010 ==> MAP@12: 0.00381\n",
      "Factors: 100 - Iterations: 100 - Regularization: 0.010 ==> MAP@12: 0.00893\n",
      "Factors: 100 - Iterations: 150 - Regularization: 0.010 ==> MAP@12: 0.01442\n",
      "CPU times: user 6h 35min 15s, sys: 3h 40s, total: 9h 35min 56s\n",
      "Wall time: 53min 10s\n"
     ]
    }
   ],
   "source": [
    "%%time\n",
    "best_map12 = 0\n",
    "for factors in [20, 30, 50, 100]:\n",
    "    for iterations in [20, 30, 50, 100, 150]:\n",
    "        for regularization in [0.01]:\n",
    "            map12 = train_lmf_model(train_set, test_set, factors, iterations, regularization)\n",
    "            if map12 > best_map12:\n",
    "                best_map12 = map12\n",
    "                best_params = {'factors': factors, 'iterations': iterations, 'regularization': regularization}\n",
    "                print(f\"Best MAP@12 found. Updating: {best_params}\")"
   ]
  },
  {
   "cell_type": "code",
   "execution_count": 136,
   "metadata": {},
   "outputs": [
    {
     "data": {
      "application/vnd.jupyter.widget-view+json": {
       "model_id": "2c2372d2299f46c3bed53ee3d760f8fd",
       "version_major": 2,
       "version_minor": 0
      },
      "text/plain": [
       "  0%|          | 0/150 [00:00<?, ?it/s]"
      ]
     },
     "metadata": {},
     "output_type": "display_data"
    }
   ],
   "source": [
    "lmf_model = implicit.cpu.lmf.LogisticMatrixFactorization(factors=30, \n",
    "                                                 iterations=150, \n",
    "                                                 regularization=0.01, \n",
    "                                                 random_state=42)\n",
    "lmf_model.fit(train_set, show_progress = True)"
   ]
  },
  {
   "cell_type": "code",
   "execution_count": 137,
   "metadata": {},
   "outputs": [
    {
     "data": {
      "text/plain": [
       "[307172, 324248, 271400, 240233, 137251]"
      ]
     },
     "execution_count": 137,
     "metadata": {},
     "output_type": "execute_result"
    }
   ],
   "source": [
    "lmf_model.recommend(16280, ratings_sparse[16280], N=5)[0].tolist()"
   ]
  },
  {
   "cell_type": "code",
   "execution_count": 138,
   "metadata": {},
   "outputs": [
    {
     "data": {
      "application/vnd.jupyter.widget-view+json": {
       "model_id": "dfd3dcd33e7a4f4fabf909e9c4e7beba",
       "version_major": 2,
       "version_minor": 0
      },
      "text/plain": [
       "  0%|          | 0/173302 [00:00<?, ?it/s]"
      ]
     },
     "metadata": {},
     "output_type": "display_data"
    },
    {
     "data": {
      "text/html": [
       "<div>\n",
       "<style scoped>\n",
       "    .dataframe tbody tr th:only-of-type {\n",
       "        vertical-align: middle;\n",
       "    }\n",
       "\n",
       "    .dataframe tbody tr th {\n",
       "        vertical-align: top;\n",
       "    }\n",
       "\n",
       "    .dataframe thead th {\n",
       "        text-align: right;\n",
       "    }\n",
       "</style>\n",
       "<table border=\"1\" class=\"dataframe\">\n",
       "  <thead>\n",
       "    <tr style=\"text-align: right;\">\n",
       "      <th></th>\n",
       "      <th>precision</th>\n",
       "      <th>map</th>\n",
       "      <th>ndcg</th>\n",
       "      <th>auc</th>\n",
       "    </tr>\n",
       "    <tr>\n",
       "      <th>Modèle</th>\n",
       "      <th></th>\n",
       "      <th></th>\n",
       "      <th></th>\n",
       "      <th></th>\n",
       "    </tr>\n",
       "  </thead>\n",
       "  <tbody>\n",
       "    <tr>\n",
       "      <th>AlternatingLeastSquares</th>\n",
       "      <td>0.157191</td>\n",
       "      <td>0.082075</td>\n",
       "      <td>0.128523</td>\n",
       "      <td>0.593641</td>\n",
       "    </tr>\n",
       "    <tr>\n",
       "      <th>BayesianPersonalizedRanking</th>\n",
       "      <td>0.112522</td>\n",
       "      <td>0.069736</td>\n",
       "      <td>0.104425</td>\n",
       "      <td>0.577549</td>\n",
       "    </tr>\n",
       "    <tr>\n",
       "      <th>LogisticMatrixFactorization</th>\n",
       "      <td>0.036326</td>\n",
       "      <td>0.014767</td>\n",
       "      <td>0.026421</td>\n",
       "      <td>0.521873</td>\n",
       "    </tr>\n",
       "  </tbody>\n",
       "</table>\n",
       "</div>"
      ],
      "text/plain": [
       "0                            precision       map      ndcg       auc\n",
       "Modèle                                                              \n",
       "AlternatingLeastSquares       0.157191  0.082075  0.128523  0.593641\n",
       "BayesianPersonalizedRanking   0.112522  0.069736  0.104425  0.577549\n",
       "LogisticMatrixFactorization   0.036326  0.014767  0.026421  0.521873"
      ]
     },
     "execution_count": 138,
     "metadata": {},
     "output_type": "execute_result"
    }
   ],
   "source": [
    "lmf_result = ranking_metrics_at_k(lmf_model, train_set, test_set, K=10, num_threads=1)\n",
    "append_result(lmf_model, lmf_result)\n",
    "bench"
   ]
  },
  {
   "cell_type": "markdown",
   "metadata": {},
   "source": [
    "## <span style='color:#A000B6 ' id=\"section_4_3\" >4.3 Memory based</span>\n",
    "- Modèles basés sur l'historique des utilisateurs."
   ]
  },
  {
   "cell_type": "markdown",
   "metadata": {},
   "source": [
    ">## <font color=#1800C8 >a) Nearest Neighbours with Cosine Recommender Model</font>\n",
    "- Modèle de la famille Item based.\n",
    "- Modèle Nearest Neighbours (plus proches voisins) avec une similarité cosinus.\n",
    "- La recherche des plus proches voisins se fait sur la similarité entre les items.\n",
    "- La similarité entre les items est recherché dans la matrice Utilisateurs - Articles en utilisant un calcul de similarité cosinus."
   ]
  },
  {
   "cell_type": "code",
   "execution_count": 139,
   "metadata": {},
   "outputs": [
    {
     "data": {
      "application/vnd.jupyter.widget-view+json": {
       "model_id": "2c0427162d5a4b6d98acfe0ba8e4e36a",
       "version_major": 2,
       "version_minor": 0
      },
      "text/plain": [
       "  0%|          | 0/364047 [00:00<?, ?it/s]"
      ]
     },
     "metadata": {},
     "output_type": "display_data"
    }
   ],
   "source": [
    "nncrm_model = implicit.nearest_neighbours.CosineRecommender(K=10, num_threads=1)\n",
    "nncrm_model.fit(train_set.astype('double'), show_progress = True)"
   ]
  },
  {
   "cell_type": "code",
   "execution_count": 140,
   "metadata": {},
   "outputs": [
    {
     "data": {
      "text/plain": [
       "[337735, 284985, 293114, 160940, 124749]"
      ]
     },
     "execution_count": 140,
     "metadata": {},
     "output_type": "execute_result"
    }
   ],
   "source": [
    "nncrm_model.recommend(16280, train_set.astype('double'), N=5)[0].tolist()"
   ]
  },
  {
   "cell_type": "code",
   "execution_count": 141,
   "metadata": {},
   "outputs": [
    {
     "data": {
      "application/vnd.jupyter.widget-view+json": {
       "model_id": "9b86021013b148fc9bccaa2dda387d4d",
       "version_major": 2,
       "version_minor": 0
      },
      "text/plain": [
       "  0%|          | 0/173302 [00:00<?, ?it/s]"
      ]
     },
     "metadata": {},
     "output_type": "display_data"
    },
    {
     "data": {
      "text/html": [
       "<div>\n",
       "<style scoped>\n",
       "    .dataframe tbody tr th:only-of-type {\n",
       "        vertical-align: middle;\n",
       "    }\n",
       "\n",
       "    .dataframe tbody tr th {\n",
       "        vertical-align: top;\n",
       "    }\n",
       "\n",
       "    .dataframe thead th {\n",
       "        text-align: right;\n",
       "    }\n",
       "</style>\n",
       "<table border=\"1\" class=\"dataframe\">\n",
       "  <thead>\n",
       "    <tr style=\"text-align: right;\">\n",
       "      <th></th>\n",
       "      <th>precision</th>\n",
       "      <th>map</th>\n",
       "      <th>ndcg</th>\n",
       "      <th>auc</th>\n",
       "    </tr>\n",
       "    <tr>\n",
       "      <th>Modèle</th>\n",
       "      <th></th>\n",
       "      <th></th>\n",
       "      <th></th>\n",
       "      <th></th>\n",
       "    </tr>\n",
       "  </thead>\n",
       "  <tbody>\n",
       "    <tr>\n",
       "      <th>AlternatingLeastSquares</th>\n",
       "      <td>0.157191</td>\n",
       "      <td>0.082075</td>\n",
       "      <td>0.128523</td>\n",
       "      <td>0.593641</td>\n",
       "    </tr>\n",
       "    <tr>\n",
       "      <th>BayesianPersonalizedRanking</th>\n",
       "      <td>0.112522</td>\n",
       "      <td>0.069736</td>\n",
       "      <td>0.104425</td>\n",
       "      <td>0.577549</td>\n",
       "    </tr>\n",
       "    <tr>\n",
       "      <th>LogisticMatrixFactorization</th>\n",
       "      <td>0.036326</td>\n",
       "      <td>0.014767</td>\n",
       "      <td>0.026421</td>\n",
       "      <td>0.521873</td>\n",
       "    </tr>\n",
       "    <tr>\n",
       "      <th>CosineRecommender</th>\n",
       "      <td>0.193788</td>\n",
       "      <td>0.061780</td>\n",
       "      <td>0.122129</td>\n",
       "      <td>0.619970</td>\n",
       "    </tr>\n",
       "  </tbody>\n",
       "</table>\n",
       "</div>"
      ],
      "text/plain": [
       "0                            precision       map      ndcg       auc\n",
       "Modèle                                                              \n",
       "AlternatingLeastSquares       0.157191  0.082075  0.128523  0.593641\n",
       "BayesianPersonalizedRanking   0.112522  0.069736  0.104425  0.577549\n",
       "LogisticMatrixFactorization   0.036326  0.014767  0.026421  0.521873\n",
       "CosineRecommender             0.193788  0.061780  0.122129  0.619970"
      ]
     },
     "execution_count": 141,
     "metadata": {},
     "output_type": "execute_result"
    }
   ],
   "source": [
    "nncrm_result = ranking_metrics_at_k(nncrm_model, train_set.astype('double'), test_set.astype('double'), K=10, num_threads=1)\n",
    "append_result(nncrm_model, nncrm_result)\n",
    "bench"
   ]
  },
  {
   "cell_type": "markdown",
   "metadata": {},
   "source": [
    ">## <font color=#1800C8 >b) Nearest Neighbours with Item-Item Recommender Model</font>"
   ]
  },
  {
   "cell_type": "code",
   "execution_count": 142,
   "metadata": {},
   "outputs": [
    {
     "data": {
      "application/vnd.jupyter.widget-view+json": {
       "model_id": "f0341e9ea15f4019b01328fd2dc26b18",
       "version_major": 2,
       "version_minor": 0
      },
      "text/plain": [
       "  0%|          | 0/364047 [00:00<?, ?it/s]"
      ]
     },
     "metadata": {},
     "output_type": "display_data"
    }
   ],
   "source": [
    "nnirm_model = implicit.nearest_neighbours.ItemItemRecommender(K=10)\n",
    "nnirm_model.fit(train_set.astype('double'))"
   ]
  },
  {
   "cell_type": "code",
   "execution_count": 143,
   "metadata": {
    "scrolled": true
   },
   "outputs": [
    {
     "data": {
      "text/plain": [
       "[96210, 160974, 293114, 272143, 124749]"
      ]
     },
     "execution_count": 143,
     "metadata": {},
     "output_type": "execute_result"
    }
   ],
   "source": [
    "nnirm_model.recommend(16280, train_set.astype('double'), N=5)[0].tolist()"
   ]
  },
  {
   "cell_type": "code",
   "execution_count": 144,
   "metadata": {},
   "outputs": [
    {
     "data": {
      "application/vnd.jupyter.widget-view+json": {
       "model_id": "5a2c4198d47242b0a05cae35481389c1",
       "version_major": 2,
       "version_minor": 0
      },
      "text/plain": [
       "  0%|          | 0/173302 [00:00<?, ?it/s]"
      ]
     },
     "metadata": {},
     "output_type": "display_data"
    },
    {
     "data": {
      "text/html": [
       "<div>\n",
       "<style scoped>\n",
       "    .dataframe tbody tr th:only-of-type {\n",
       "        vertical-align: middle;\n",
       "    }\n",
       "\n",
       "    .dataframe tbody tr th {\n",
       "        vertical-align: top;\n",
       "    }\n",
       "\n",
       "    .dataframe thead th {\n",
       "        text-align: right;\n",
       "    }\n",
       "</style>\n",
       "<table border=\"1\" class=\"dataframe\">\n",
       "  <thead>\n",
       "    <tr style=\"text-align: right;\">\n",
       "      <th></th>\n",
       "      <th>precision</th>\n",
       "      <th>map</th>\n",
       "      <th>ndcg</th>\n",
       "      <th>auc</th>\n",
       "    </tr>\n",
       "    <tr>\n",
       "      <th>Modèle</th>\n",
       "      <th></th>\n",
       "      <th></th>\n",
       "      <th></th>\n",
       "      <th></th>\n",
       "    </tr>\n",
       "  </thead>\n",
       "  <tbody>\n",
       "    <tr>\n",
       "      <th>AlternatingLeastSquares</th>\n",
       "      <td>0.157191</td>\n",
       "      <td>0.082075</td>\n",
       "      <td>0.128523</td>\n",
       "      <td>0.593641</td>\n",
       "    </tr>\n",
       "    <tr>\n",
       "      <th>BayesianPersonalizedRanking</th>\n",
       "      <td>0.112522</td>\n",
       "      <td>0.069736</td>\n",
       "      <td>0.104425</td>\n",
       "      <td>0.577549</td>\n",
       "    </tr>\n",
       "    <tr>\n",
       "      <th>LogisticMatrixFactorization</th>\n",
       "      <td>0.036326</td>\n",
       "      <td>0.014767</td>\n",
       "      <td>0.026421</td>\n",
       "      <td>0.521873</td>\n",
       "    </tr>\n",
       "    <tr>\n",
       "      <th>CosineRecommender</th>\n",
       "      <td>0.193788</td>\n",
       "      <td>0.061780</td>\n",
       "      <td>0.122129</td>\n",
       "      <td>0.619970</td>\n",
       "    </tr>\n",
       "    <tr>\n",
       "      <th>ItemItemRecommender</th>\n",
       "      <td>0.162407</td>\n",
       "      <td>0.060652</td>\n",
       "      <td>0.110592</td>\n",
       "      <td>0.598177</td>\n",
       "    </tr>\n",
       "  </tbody>\n",
       "</table>\n",
       "</div>"
      ],
      "text/plain": [
       "0                            precision       map      ndcg       auc\n",
       "Modèle                                                              \n",
       "AlternatingLeastSquares       0.157191  0.082075  0.128523  0.593641\n",
       "BayesianPersonalizedRanking   0.112522  0.069736  0.104425  0.577549\n",
       "LogisticMatrixFactorization   0.036326  0.014767  0.026421  0.521873\n",
       "CosineRecommender             0.193788  0.061780  0.122129  0.619970\n",
       "ItemItemRecommender           0.162407  0.060652  0.110592  0.598177"
      ]
     },
     "execution_count": 144,
     "metadata": {},
     "output_type": "execute_result"
    }
   ],
   "source": [
    "nnirm_result = ranking_metrics_at_k(nnirm_model, train_set.astype('double'), test_set.astype('double'), K=10, num_threads=1)\n",
    "append_result(nnirm_model, nnirm_result)\n",
    "bench"
   ]
  },
  {
   "cell_type": "markdown",
   "metadata": {},
   "source": [
    ">## <font color=#1800C8 >c) Nearest Neighbours with TF-IDF Recommender Model</font>"
   ]
  },
  {
   "cell_type": "code",
   "execution_count": 145,
   "metadata": {},
   "outputs": [
    {
     "data": {
      "application/vnd.jupyter.widget-view+json": {
       "model_id": "2876077ee4ee4f7e88b50906a568960b",
       "version_major": 2,
       "version_minor": 0
      },
      "text/plain": [
       "  0%|          | 0/364047 [00:00<?, ?it/s]"
      ]
     },
     "metadata": {},
     "output_type": "display_data"
    }
   ],
   "source": [
    "nntfrm_model = implicit.nearest_neighbours.TFIDFRecommender(K=10, num_threads=1)\n",
    "nntfrm_model.fit(train_set.astype('double'), show_progress = True)"
   ]
  },
  {
   "cell_type": "code",
   "execution_count": 146,
   "metadata": {},
   "outputs": [
    {
     "data": {
      "text/plain": [
       "[337735, 124749, 284985, 293114, 160940]"
      ]
     },
     "execution_count": 146,
     "metadata": {},
     "output_type": "execute_result"
    }
   ],
   "source": [
    "nntfrm_model.recommend(16280, train_set.astype('double'), N=5)[0].tolist()"
   ]
  },
  {
   "cell_type": "code",
   "execution_count": 147,
   "metadata": {},
   "outputs": [
    {
     "data": {
      "application/vnd.jupyter.widget-view+json": {
       "model_id": "b9e9abd26dad470198d500c7ff14a517",
       "version_major": 2,
       "version_minor": 0
      },
      "text/plain": [
       "  0%|          | 0/173302 [00:00<?, ?it/s]"
      ]
     },
     "metadata": {},
     "output_type": "display_data"
    },
    {
     "data": {
      "text/html": [
       "<div>\n",
       "<style scoped>\n",
       "    .dataframe tbody tr th:only-of-type {\n",
       "        vertical-align: middle;\n",
       "    }\n",
       "\n",
       "    .dataframe tbody tr th {\n",
       "        vertical-align: top;\n",
       "    }\n",
       "\n",
       "    .dataframe thead th {\n",
       "        text-align: right;\n",
       "    }\n",
       "</style>\n",
       "<table border=\"1\" class=\"dataframe\">\n",
       "  <thead>\n",
       "    <tr style=\"text-align: right;\">\n",
       "      <th></th>\n",
       "      <th>precision</th>\n",
       "      <th>map</th>\n",
       "      <th>ndcg</th>\n",
       "      <th>auc</th>\n",
       "    </tr>\n",
       "    <tr>\n",
       "      <th>Modèle</th>\n",
       "      <th></th>\n",
       "      <th></th>\n",
       "      <th></th>\n",
       "      <th></th>\n",
       "    </tr>\n",
       "  </thead>\n",
       "  <tbody>\n",
       "    <tr>\n",
       "      <th>AlternatingLeastSquares</th>\n",
       "      <td>0.157191</td>\n",
       "      <td>0.082075</td>\n",
       "      <td>0.128523</td>\n",
       "      <td>0.593641</td>\n",
       "    </tr>\n",
       "    <tr>\n",
       "      <th>BayesianPersonalizedRanking</th>\n",
       "      <td>0.112522</td>\n",
       "      <td>0.069736</td>\n",
       "      <td>0.104425</td>\n",
       "      <td>0.577549</td>\n",
       "    </tr>\n",
       "    <tr>\n",
       "      <th>LogisticMatrixFactorization</th>\n",
       "      <td>0.036326</td>\n",
       "      <td>0.014767</td>\n",
       "      <td>0.026421</td>\n",
       "      <td>0.521873</td>\n",
       "    </tr>\n",
       "    <tr>\n",
       "      <th>CosineRecommender</th>\n",
       "      <td>0.193788</td>\n",
       "      <td>0.061780</td>\n",
       "      <td>0.122129</td>\n",
       "      <td>0.619970</td>\n",
       "    </tr>\n",
       "    <tr>\n",
       "      <th>ItemItemRecommender</th>\n",
       "      <td>0.162407</td>\n",
       "      <td>0.060652</td>\n",
       "      <td>0.110592</td>\n",
       "      <td>0.598177</td>\n",
       "    </tr>\n",
       "    <tr>\n",
       "      <th>TFIDFRecommender</th>\n",
       "      <td>0.202936</td>\n",
       "      <td>0.064617</td>\n",
       "      <td>0.127684</td>\n",
       "      <td>0.625395</td>\n",
       "    </tr>\n",
       "  </tbody>\n",
       "</table>\n",
       "</div>"
      ],
      "text/plain": [
       "0                            precision       map      ndcg       auc\n",
       "Modèle                                                              \n",
       "AlternatingLeastSquares       0.157191  0.082075  0.128523  0.593641\n",
       "BayesianPersonalizedRanking   0.112522  0.069736  0.104425  0.577549\n",
       "LogisticMatrixFactorization   0.036326  0.014767  0.026421  0.521873\n",
       "CosineRecommender             0.193788  0.061780  0.122129  0.619970\n",
       "ItemItemRecommender           0.162407  0.060652  0.110592  0.598177\n",
       "TFIDFRecommender              0.202936  0.064617  0.127684  0.625395"
      ]
     },
     "execution_count": 147,
     "metadata": {},
     "output_type": "execute_result"
    }
   ],
   "source": [
    "nntfrm_result = ranking_metrics_at_k(nntfrm_model, train_set.astype('double'), test_set.astype('double'), K=10, num_threads=1)\n",
    "append_result(nntfrm_model, nntfrm_result)\n",
    "bench"
   ]
  },
  {
   "cell_type": "markdown",
   "metadata": {},
   "source": [
    "# <span style='color:#DC6000 ' id=\"section_5\" >5. Conclusion</span>"
   ]
  },
  {
   "cell_type": "markdown",
   "metadata": {},
   "source": [
    "**Le meilleur modèle au vue des resultats de la Précision et du MAP (Mean Average Precision) est le modèle AlternatingLeastSquares.**\n"
   ]
  },
  {
   "cell_type": "code",
   "execution_count": 148,
   "metadata": {},
   "outputs": [],
   "source": [
    "# Sauvegarde du modèle\n",
    "# Save to file in the current working directory\n",
    "pkl_filename = \"pickle_AlternatingLeastSquares.pkl\"\n",
    "\n",
    "with open(pkl_filename, 'wb') as file:\n",
    "    pickle.dump(als_model, file)\n",
    "\n",
    "# Load from file for testing\n",
    "with open(pkl_filename, 'rb') as file:\n",
    "    pickle_model = pickle.load(file)"
   ]
  },
  {
   "cell_type": "markdown",
   "metadata": {},
   "source": [
    "#### Test du modèle sauvegardé :"
   ]
  },
  {
   "cell_type": "code",
   "execution_count": 149,
   "metadata": {},
   "outputs": [
    {
     "data": {
      "text/plain": [
       "[20691, 293301, 234267, 313504, 59758]"
      ]
     },
     "execution_count": 149,
     "metadata": {},
     "output_type": "execute_result"
    }
   ],
   "source": [
    "pickle_model.recommend(16280, ratings_sparse[16280], N=5)[0].tolist()"
   ]
  },
  {
   "cell_type": "code",
   "execution_count": 150,
   "metadata": {},
   "outputs": [
    {
     "data": {
      "text/plain": [
       "[272660, 161178, 129434, 59758, 235132]"
      ]
     },
     "execution_count": 150,
     "metadata": {},
     "output_type": "execute_result"
    }
   ],
   "source": [
    "pickle_model.recommend(32289, ratings_sparse[32289], N=5)[0].tolist()"
   ]
  },
  {
   "cell_type": "code",
   "execution_count": 151,
   "metadata": {},
   "outputs": [
    {
     "data": {
      "text/plain": [
       "[20691, 293301, 234267, 313504, 59758]"
      ]
     },
     "execution_count": 151,
     "metadata": {},
     "output_type": "execute_result"
    }
   ],
   "source": [
    "als_model.recommend(16280, ratings_sparse[16280], N=5)[0].tolist()"
   ]
  },
  {
   "cell_type": "markdown",
   "metadata": {},
   "source": [
    "#### Tester la matrice `ratings_sparse` sauvegardé"
   ]
  },
  {
   "cell_type": "code",
   "execution_count": 152,
   "metadata": {},
   "outputs": [],
   "source": [
    "my_matrix_back = sparse.load_npz(\"ratings_sparse.npz\")"
   ]
  },
  {
   "cell_type": "code",
   "execution_count": 153,
   "metadata": {},
   "outputs": [
    {
     "data": {
      "text/plain": [
       "[20691, 293301, 234267, 313504, 59758]"
      ]
     },
     "execution_count": 153,
     "metadata": {},
     "output_type": "execute_result"
    }
   ],
   "source": [
    "pickle_model.recommend(16280, my_matrix_back[16280], N=5)[0].tolist()"
   ]
  },
  {
   "cell_type": "markdown",
   "metadata": {},
   "source": [
    "Nous pouvons constater que certains articles sont régulièrement recommandés !"
   ]
  },
  {
   "cell_type": "code",
   "execution_count": 154,
   "metadata": {},
   "outputs": [],
   "source": [
    "nb_clicks = df_clicks_clean.groupby('click_article_id').agg({'user_id': 'count'}).rename(columns={'user_id': 'nb_clicks'}).reset_index()\n",
    "nb_clicks = nb_clicks.sort_values(by='nb_clicks', ascending=False)\n",
    "nb_clicks = nb_clicks.head(50)"
   ]
  },
  {
   "cell_type": "code",
   "execution_count": 155,
   "metadata": {},
   "outputs": [
    {
     "data": {
      "text/plain": [
       "<AxesSubplot: xlabel='click_article_id'>"
      ]
     },
     "execution_count": 155,
     "metadata": {},
     "output_type": "execute_result"
    },
    {
     "data": {
      "image/png": "[encoded data removed]",
      "text/plain": [
       "<Figure size 2000x1000 with 1 Axes>"
      ]
     },
     "metadata": {},
     "output_type": "display_data"
    }
   ],
   "source": [
    "nb_clicks.plot.bar(x='click_article_id', y='nb_clicks', figsize=(20,10), color=('b'), rot=(35))"
   ]
  },
  {
   "cell_type": "markdown",
   "metadata": {},
   "source": [
    "Ce graphe montre que dans le cas des modèles basés sur le filtrage collaboratif les articles fréquement recommandés ne sont pas les articles les plus lus."
   ]
  },
  {
   "cell_type": "markdown",
   "metadata": {},
   "source": [
    "# <span style='color:#DC6000 ' id=\"section_6\" >6. Sauvegarde dans Azure</span>"
   ]
  },
  {
   "cell_type": "code",
   "execution_count": 109,
   "metadata": {},
   "outputs": [],
   "source": [
    "# From azure.identity import DefaultAzureCredential\n",
    "from azure.storage.blob import BlobServiceClient\n",
    "from azure.storage.blob import BlobClient\n",
    "\n",
    "account_url = os.environ['AZURE_STORAGE_BLOB_ACCOUNT_URL']\n",
    "creds = os.environ['AZURE_STORAGE_BLOB_CREDENTIAL']\n",
    "#AZURE_STORAGE_BLOB_CREDENTIAL\n",
    "service_client = BlobServiceClient(\n",
    "    account_url = account_url,\n",
    "    credential = creds\n",
    ")"
   ]
  },
  {
   "cell_type": "code",
   "execution_count": 110,
   "metadata": {},
   "outputs": [
    {
     "name": "stdout",
     "output_type": "stream",
     "text": [
      "['p9pickle']\n"
     ]
    }
   ],
   "source": [
    "# controle contenaire\n",
    "def get_containers():\n",
    "    try:\n",
    "        containers = service_client.list_containers()\n",
    "        print([container.name for container in containers])\n",
    "    except Exception as e:\n",
    "        print(e.message)\n",
    "\n",
    "get_containers()"
   ]
  },
  {
   "cell_type": "code",
   "execution_count": 111,
   "metadata": {},
   "outputs": [],
   "source": [
    "def upload_to_azure(container_name, save_azure_name, path_file_name):\n",
    "    blob_url = f\"{account_url}/{container_name}/{save_azure_name}\"\n",
    "    blob_client = BlobClient.from_blob_url(blob_url=blob_url,credential=creds)\n",
    "    with open(path_file_name, \"rb\") as blob_file:\n",
    "        blob_client.upload_blob(data=blob_file,overwrite=True)\n",
    "    print(\"Le fichier a été sauvegardé dans azure sous le mom : \",save_azure_name)"
   ]
  },
  {
   "cell_type": "code",
   "execution_count": 112,
   "metadata": {},
   "outputs": [
    {
     "name": "stdout",
     "output_type": "stream",
     "text": [
      "Le fichier a été sauvegardé dans azure sous le mom :  articles_embeddings.pickle\n"
     ]
    }
   ],
   "source": [
    "upload_to_azure('p9pickle','articles_embeddings.pickle','data/' + data_azure + '/articles_embeddings.pickle')"
   ]
  },
  {
   "cell_type": "code",
   "execution_count": 113,
   "metadata": {},
   "outputs": [
    {
     "name": "stdout",
     "output_type": "stream",
     "text": [
      "Le fichier a été sauvegardé dans azure sous le mom :  all_clicks.pickle\n"
     ]
    }
   ],
   "source": [
    "upload_to_azure('p9pickle','all_clicks.pickle','data/' + data_azure + '/all_clicks.pickle')"
   ]
  },
  {
   "cell_type": "code",
   "execution_count": 114,
   "metadata": {},
   "outputs": [
    {
     "name": "stdout",
     "output_type": "stream",
     "text": [
      "Le fichier a été sauvegardé dans azure sous le mom :  users.pickle\n"
     ]
    }
   ],
   "source": [
    "upload_to_azure('p9pickle','users.pickle','data/' + data_azure + '/users.pickle')"
   ]
  },
  {
   "cell_type": "code",
   "execution_count": 115,
   "metadata": {},
   "outputs": [
    {
     "name": "stdout",
     "output_type": "stream",
     "text": [
      "Le fichier a été sauvegardé dans azure sous le mom :  als_model.pickle\n"
     ]
    }
   ],
   "source": [
    "upload_to_azure('p9pickle','als_model.pickle','pickle_AlternatingLeastSquares.pkl')"
   ]
  },
  {
   "cell_type": "code",
   "execution_count": 130,
   "metadata": {},
   "outputs": [
    {
     "name": "stdout",
     "output_type": "stream",
     "text": [
      "Le fichier a été sauvegardé dans azure sous le mom :  ratings_sparse.npz\n"
     ]
    }
   ],
   "source": [
    "upload_to_azure('p9pickle','ratings_sparse.npz','ratings_sparse.npz')"
   ]
  },
  {
   "cell_type": "code",
   "execution_count": null,
   "metadata": {},
   "outputs": [],
   "source": []
  }
 ],
 "metadata": {
  "kernelspec": {
   "display_name": "Python 3 (ipykernel)",
   "language": "python",
   "name": "python3"
  },
  "language_info": {
   "codemirror_mode": {
    "name": "ipython",
    "version": 3
   },
   "file_extension": ".py",
   "mimetype": "text/x-python",
   "name": "python",
   "nbconvert_exporter": "python",
   "pygments_lexer": "ipython3",
   "version": "3.10.5"
  }
 },
 "nbformat": 4,
 "nbformat_minor": 2
}
